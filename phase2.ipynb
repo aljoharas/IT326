{
  "nbformat": 4,
  "nbformat_minor": 0,
  "metadata": {
    "colab": {
      "provenance": [],
      "authorship_tag": "ABX9TyMVvyuQ/TRtFof3MTAvTCzs",
      "include_colab_link": true
    },
    "kernelspec": {
      "name": "python3",
      "display_name": "Python 3"
    },
    "language_info": {
      "name": "python"
    }
  },
  "cells": [
    {
      "cell_type": "markdown",
      "metadata": {
        "id": "view-in-github",
        "colab_type": "text"
      },
      "source": [
        "<a href=\"https://colab.research.google.com/github/aljoharas/IT326/blob/main/phase2.ipynb\" target=\"_parent\"><img src=\"https://colab.research.google.com/assets/colab-badge.svg\" alt=\"Open In Colab\"/></a>"
      ]
    },
    {
      "cell_type": "code",
      "execution_count": 1,
      "metadata": {
        "id": "X2651LiUK84F"
      },
      "outputs": [],
      "source": [
        "import pandas as pd\n",
        "import os\n",
        "df = pd.read_csv('https://raw.githubusercontent.com/aljoharas/IT326/refs/heads/main/Dataset/pollution%20dataset.csv')\n"
      ]
    },
    {
      "cell_type": "markdown",
      "source": [
        "# **Summary of Raw Data**\n",
        "\n",
        "### Statistical Measures:\n"
      ],
      "metadata": {
        "id": "WV_8zFgILKPK"
      }
    },
    {
      "cell_type": "code",
      "source": [
        "statistical_measures = df.describe(percentiles=[.25, .5, .75]).transpose()\n",
        "\n",
        "# To get min, Q1, median, Q3, max:\n",
        "statistical_measures = statistical_measures[['min', '25%', '50%', '75%', 'max']]\n",
        "\n",
        "statistical_measures.columns = ['Min', 'Q1', 'Median', 'Q3', 'Max']\n",
        "\n",
        "# Display the results\n",
        "print(statistical_measures)\n"
      ],
      "metadata": {
        "colab": {
          "base_uri": "https://localhost:8080/"
        },
        "id": "cpR2m0Q9NSWu",
        "outputId": "807bf60e-01a0-4ea4-e54c-ebf39a6b437a"
      },
      "execution_count": 2,
      "outputs": [
        {
          "output_type": "stream",
          "name": "stdout",
          "text": [
            "                                  Min      Q1  Median       Q3     Max\n",
            "Temperature                     13.40   25.10   29.00   34.000   58.60\n",
            "Humidity                        36.00   58.30   69.80   80.300  128.10\n",
            "PM2.5                            0.00    4.60   12.00   26.100  295.00\n",
            "PM10                            -0.20   12.30   21.70   38.100  315.80\n",
            "NO2                              7.40   20.10   25.30   31.900   64.90\n",
            "SO2                             -6.20    5.10    8.00   13.725   44.90\n",
            "CO                               0.65    1.03    1.41    1.840    3.72\n",
            "Proximity_to_Industrial_Areas    2.50    5.40    7.90   11.100   25.80\n",
            "Population_Density             188.00  381.00  494.00  600.000  957.00\n"
          ]
        }
      ]
    }
  ]
}