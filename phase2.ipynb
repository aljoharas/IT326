{
  "nbformat": 4,
  "nbformat_minor": 0,
  "metadata": {
    "colab": {
      "provenance": [],
      "include_colab_link": true
    },
    "kernelspec": {
      "name": "python3",
      "display_name": "Python 3"
    },
    "language_info": {
      "name": "python"
    }
  },
  "cells": [
    {
      "cell_type": "markdown",
      "metadata": {
        "id": "view-in-github",
        "colab_type": "text"
      },
      "source": [
        "<a href=\"https://colab.research.google.com/github/aljoharas/IT326/blob/main/phase2.ipynb\" target=\"_parent\"><img src=\"https://colab.research.google.com/assets/colab-badge.svg\" alt=\"Open In Colab\"/></a>"
      ]
    },
    {
      "cell_type": "code",
      "execution_count": 1,
      "metadata": {
        "id": "X2651LiUK84F"
      },
      "outputs": [],
      "source": [
        "import pandas as pd\n",
        "import matplotlib.pyplot as plt\n",
        "import os\n",
        "from sklearn.preprocessing import LabelEncoder, StandardScaler\n",
        "df = pd.read_csv('https://raw.githubusercontent.com/aljoharas/IT326/refs/heads/main/Dataset/pollution%20dataset.csv')\n"
      ]
    },
    {
      "cell_type": "markdown",
      "source": [
        "# **Summary of Raw Data**\n",
        "Raw data is unprocessed information gathered from different sources, that has not yet been analyzed or organized. It consists of original data points that often require cleaning and processing before they can provide valuable insights."
      ],
      "metadata": {
        "id": "WV_8zFgILKPK"
      }
    },
    {
      "cell_type": "markdown",
      "source": [
        "### **Displaying raw data**"
      ],
      "metadata": {
        "id": "neofSmiRtTDc"
      }
    },
    {
      "cell_type": "code",
      "source": [
        "summary = df.describe()\n",
        "\n",
        "print(\"Summary of the dataset:\")\n",
        "print(summary)"
      ],
      "metadata": {
        "id": "SVZRDSlnieIX",
        "outputId": "0486425e-dc29-4ef9-9fb8-cdf6f3eebec4",
        "colab": {
          "base_uri": "https://localhost:8080/"
        }
      },
      "execution_count": 13,
      "outputs": [
        {
          "output_type": "stream",
          "name": "stdout",
          "text": [
            "Summary of the dataset:\n",
            "       Temperature     Humidity        PM2.5         PM10          NO2  \\\n",
            "count  5000.000000  5000.000000  5000.000000  5000.000000  5000.000000   \n",
            "mean     30.029020    70.056120    20.142140    30.218360    26.412100   \n",
            "std       6.720661    15.863577    24.554546    27.349199     8.895356   \n",
            "min      13.400000    36.000000     0.000000    -0.200000     7.400000   \n",
            "25%      25.100000    58.300000     4.600000    12.300000    20.100000   \n",
            "50%      29.000000    69.800000    12.000000    21.700000    25.300000   \n",
            "75%      34.000000    80.300000    26.100000    38.100000    31.900000   \n",
            "max      58.600000   128.100000   295.000000   315.800000    64.900000   \n",
            "\n",
            "               SO2           CO  Proximity_to_Industrial_Areas  \\\n",
            "count  5000.000000  5000.000000                    5000.000000   \n",
            "mean     10.014820     1.500354                       8.425400   \n",
            "std       6.750303     0.546027                       3.610944   \n",
            "min      -6.200000     0.650000                       2.500000   \n",
            "25%       5.100000     1.030000                       5.400000   \n",
            "50%       8.000000     1.410000                       7.900000   \n",
            "75%      13.725000     1.840000                      11.100000   \n",
            "max      44.900000     3.720000                      25.800000   \n",
            "\n",
            "       Population_Density  \n",
            "count         5000.000000  \n",
            "mean           497.423800  \n",
            "std            152.754084  \n",
            "min            188.000000  \n",
            "25%            381.000000  \n",
            "50%            494.000000  \n",
            "75%            600.000000  \n",
            "max            957.000000  \n"
          ]
        }
      ]
    },
    {
      "cell_type": "code",
      "source": [
        "import matplotlib.pyplot as plt\n",
        "air_quality_distribution = df['Air Quality'].value_counts()\n",
        "print(\"Air Quality:\\n\", air_quality_distribution)"
      ],
      "metadata": {
        "colab": {
          "base_uri": "https://localhost:8080/"
        },
        "id": "B7JP-cVWtVcl",
        "outputId": "eded20c2-3486-4d61-a092-f816c454875a"
      },
      "execution_count": 16,
      "outputs": [
        {
          "output_type": "stream",
          "name": "stdout",
          "text": [
            "Air Quality:\n",
            " Air Quality\n",
            "Good         2000\n",
            "Moderate     1500\n",
            "Poor         1000\n",
            "Hazardous     500\n",
            "Name: count, dtype: int64\n"
          ]
        }
      ]
    },
    {
      "cell_type": "markdown",
      "source": [
        "### **Statistical Measures:**\n",
        "Descriptive statistics for numeric values summarize key features of a dataset.\n",
        "\n",
        "\n",
        "**Min:** The minimum value in the dataset.\n",
        "\n",
        "**Q1 (25%):** The first quartile, representing the value below which 25% of the data fall.\n",
        "\n",
        "**Median (50%):** The middle value when the data is sorted in ascending order.\n",
        "\n",
        "**Q3 (75%):** The third quartile, representing the value below which 75% of the data fall.\n",
        "\n",
        "**Max:** The maximum value in the dataset."
      ],
      "metadata": {
        "id": "3MZ5VmqJtGsc"
      }
    },
    {
      "cell_type": "code",
      "source": [
        "statistical_measures = df.describe(percentiles=[.25, .5, .75]).transpose()\n",
        "\n",
        "# To get min, Q1, median, Q3, max:\n",
        "statistical_measures = statistical_measures[['min', '25%', '50%', '75%', 'max']]\n",
        "\n",
        "statistical_measures.columns = ['Min', 'Q1', 'Median', 'Q3', 'Max']\n",
        "\n",
        "# Display the results\n",
        "print(statistical_measures)"
      ],
      "metadata": {
        "colab": {
          "base_uri": "https://localhost:8080/"
        },
        "id": "SYgBQGhtqGT_",
        "outputId": "ffe32e10-3a79-40d3-d903-215891add381"
      },
      "execution_count": null,
      "outputs": [
        {
          "output_type": "stream",
          "name": "stdout",
          "text": [
            "                                  Min       Q1  Median       Q3     Max\n",
            "Temperature                     22.40   23.600   25.25   26.875   28.90\n",
            "Humidity                        53.80   57.875   62.65   67.575   73.30\n",
            "PM2.5                            0.10    2.125    4.05    7.100   10.70\n",
            "PM10                             4.90    7.425    9.95   11.750   15.90\n",
            "NO2                             16.80   18.750   20.80   23.075   25.40\n",
            "SO2                              3.00    4.400    5.10    6.050    7.50\n",
            "CO                               0.87    0.950    1.01    1.070    1.12\n",
            "Proximity_to_Industrial_Areas   10.10   10.600   11.00   11.500   12.30\n",
            "Population_Density             316.00  358.250  414.00  484.750  538.00\n"
          ]
        }
      ]
    },
    {
      "cell_type": "markdown",
      "source": [
        "The summary of statistical measures gave insights on key pollutants including PM2.5, with levels ranging from 0.00 to 295.00 µg/m³ and a median of 12.00 µg/m³, suggesting moderate air quality but with spikes in some areas. PM10 also exhibits a similar pattern with a range of -0.20 - 315.80 and a median of 21.70. , The presence of high PM2.5 and PM10 levels suggests areas with poor air quality.\n",
        "\n",
        "Nitrogen dioxide (NO2) levels range from 7.40 to 64.90 µg/m³. In contrast, sulfur dioxide (SO2) Range -6.20 - 44.90, with a median of 8.00, and carbon monoxide (CO) Range 0.65 - 3.72, with a median of 1.41 levels are both relatively low, indicating minimal industrial activity and combustion-related pollution.\n",
        "\n",
        "The temperature ranged from 13.40 to 58.60, with a median of 29.00. indicating temperature varies significantly, possibly from the different seasons or geographical locations. On the other hand, Humidity range was 36.00 - 128.10, with a median of 69.80. Humidity levels are relatively high.\n",
        "\n",
        "The Population Density range 188.00 - 957.00, with a median of 494.00. meaning Population density varies significantly, indicating a mix of urban and rural areas. and the Proximity to Industrial Areas range was 2.50 - 25.80, with a median of 7.90. This measure suggests being closer to industrial areas is associated with higher levels of (PM2.5 and PM10) in the air."
      ],
      "metadata": {
        "id": "tEPehqw7J1OC"
      }
    },
    {
      "cell_type": "markdown",
      "source": [
        "# **Variables Distribution**\n",
        "Variable distribution refers to the way the values of a specific variable are spread or organized within a dataset. It indicates the frequency or likelihood of different outcomes for that variable, helping to uncover patterns, trends, and potential anomalies.\n"
      ],
      "metadata": {
        "id": "ICmhwvunQfcq"
      }
    },
    {
      "cell_type": "code",
      "source": [
        "columns_to_plot = ['Humidity', 'PM2.5', 'PM10', 'NO2', 'SO2', 'CO']\n",
        "\n",
        "df[columns_to_plot].hist(bins=8, edgecolor='white', figsize=(12, 8))\n",
        "\n",
        "plt.suptitle('Distribution of Air Quality', fontsize=16)\n",
        "plt.show()"
      ],
      "metadata": {
        "colab": {
          "base_uri": "https://localhost:8080/",
          "height": 656
        },
        "id": "VgnrdFycQvDG",
        "outputId": "939b9bea-19b1-41dc-a877-69bf3b4e166d"
      },
      "execution_count": null,
      "outputs": [
        {
          "output_type": "display_data",
          "data": {
            "text/plain": [
              "<Figure size 1200x800 with 6 Axes>"
            ],
            "image/png": "[encoded data removed]"
          },
          "metadata": {}
        }
      ]
    },
    {
      "cell_type": "markdown",
      "source": [
        "**This histogram shows the distribution of numeric values. Each plot represents the frequency of different values for variables like humidity, PM2.5, NO2, etc.**"
      ],
      "metadata": {
        "id": "pis1JMhNT-IT"
      }
    },
    {
      "cell_type": "code",
      "source": [
        "plt.figure(figsize=(12, 8))\n",
        "df['Air Quality'].hist(edgecolor='black', color='#00008B')\n",
        "plt.title('Distribution of Air Quality levels')\n",
        "plt.xlabel('Air Quality category')\n",
        "plt.ylabel('Frequency')\n",
        "plt.show()"
      ],
      "metadata": {
        "colab": {
          "base_uri": "https://localhost:8080/",
          "height": 609
        },
        "id": "0z1VRYndUOyR",
        "outputId": "f978e623-743f-4a42-dc50-565c22b73c3a"
      },
      "execution_count": null,
      "outputs": [
        {
          "output_type": "display_data",
          "data": {
            "text/plain": [
              "<Figure size 1200x800 with 1 Axes>"
            ],
            "image/png": "[encoded data removed]"
          },
          "metadata": {}
        }
      ]
    },
    {
      "cell_type": "markdown",
      "source": [
        "**This histogram shows the distribution of the class label.\n",
        "It represents the number of records for a specific air quality category (e.g., \"Good\", \"Moderate\", \"Hazardous\", \"Poor\").**"
      ],
      "metadata": {
        "id": "lDthtqgOXLn-"
      }
    },
    {
      "cell_type": "markdown",
      "source": [
        "# **Data Preprocessing**\n",
        "Before we proceed with data analysis, we need to clean the dataset to ensure accurate and reliable results.\n"
      ],
      "metadata": {
        "id": "_sf6zPGIY3_R"
      }
    },
    {
      "cell_type": "markdown",
      "source": [
        "### **Remove Noise**\n",
        "\n",
        "Noisy data consists of errors, outliers, missing values, or inconsistencies that can affect the accuracy of our model. We will address this by:\n",
        "\n",
        "- Removing unnecessary columns.\n",
        "\n",
        "- Handling the missing values.\n",
        "\n",
        "- Detecting and removing outliers."
      ],
      "metadata": {
        "id": "4lKDfMp2aYki"
      }
    },
    {
      "cell_type": "markdown",
      "source": [
        "### **Delete Unnecessary Columns**\n",
        "\n",
        "Since no columns have been specifically identified as unnecessary, we will retain all columns for the time being."
      ],
      "metadata": {
        "id": "9I_1PdNxadM0"
      }
    },
    {
      "cell_type": "markdown",
      "source": [
        "### **Detect and Handle Missing Values**\n"
      ],
      "metadata": {
        "id": "VeOcS3idav2d"
      }
    },
    {
      "cell_type": "code",
      "source": [
        "missing_values = df.isna().sum()\n",
        "\n",
        "print('Missing values in each column:')\n",
        "print(missing_values)\n",
        "\n",
        "print('\\nTotal number of missing values:', missing_values.sum())"
      ],
      "metadata": {
        "colab": {
          "base_uri": "https://localhost:8080/"
        },
        "id": "CrpFeyqbb8hF",
        "outputId": "40cac594-4365-45a6-a459-014ada82327d"
      },
      "execution_count": null,
      "outputs": [
        {
          "output_type": "stream",
          "name": "stdout",
          "text": [
            "Missing values in each column:\n",
            "Temperature                      0\n",
            "Humidity                         0\n",
            "PM2.5                            0\n",
            "PM10                             0\n",
            "NO2                              0\n",
            "SO2                              0\n",
            "CO                               0\n",
            "Proximity_to_Industrial_Areas    0\n",
            "Population_Density               0\n",
            "Air Quality                      0\n",
            "dtype: int64\n",
            "\n",
            "Total number of missing values: 0\n"
          ]
        }
      ]
    },
    {
      "cell_type": "markdown",
      "source": [
        "**Note:** The dataset doesn't have any missing values. But, just in case, we will replace any missing values with the mean of the corresponding columns."
      ],
      "metadata": {
        "id": "sQUAvWaqcJOO"
      }
    },
    {
      "cell_type": "code",
      "source": [
        "column_means = df.mean(numeric_only=True)\n",
        "df.fillna(column_means, inplace=True)\n",
        "print(df.fillna)"
      ],
      "metadata": {
        "colab": {
          "base_uri": "https://localhost:8080/"
        },
        "id": "oCFk-1YHcdUB",
        "outputId": "fa926599-c034-4454-f5af-9f353e7ec9ae"
      },
      "execution_count": null,
      "outputs": [
        {
          "output_type": "stream",
          "name": "stdout",
          "text": [
            "<bound method NDFrame.fillna of       Temperature  Humidity  PM2.5   PM10   NO2   SO2    CO  \\\n",
            "0            29.8      59.1    5.2   17.9  18.9   9.2  1.72   \n",
            "1            28.3      75.6    2.3   12.2  30.8   9.7  1.64   \n",
            "2            23.1      74.7   26.7   33.8  24.4  12.6  1.63   \n",
            "3            27.1      39.1    6.1    6.3  13.5   5.3  1.15   \n",
            "4            26.5      70.7    6.9   16.0  21.9   5.6  1.01   \n",
            "...           ...       ...    ...    ...   ...   ...   ...   \n",
            "4995         40.6      74.1  116.0  126.7  45.5  25.7  2.11   \n",
            "4996         28.1      96.9    6.9   25.0  25.3  10.8  1.54   \n",
            "4997         25.9      78.2   14.2   22.1  34.8   7.8  1.63   \n",
            "4998         25.3      44.4   21.4   29.0  23.7   5.7  0.89   \n",
            "4999         24.1      77.9   81.7   94.3  23.2  10.5  1.38   \n",
            "\n",
            "      Proximity_to_Industrial_Areas  Population_Density Air Quality  \n",
            "0                               6.3                 319    Moderate  \n",
            "1                               6.0                 611    Moderate  \n",
            "2                               5.2                 619    Moderate  \n",
            "3                              11.1                 551        Good  \n",
            "4                              12.7                 303        Good  \n",
            "...                             ...                 ...         ...  \n",
            "4995                            2.8                 765   Hazardous  \n",
            "4996                            5.7                 709    Moderate  \n",
            "4997                            9.6                 379    Moderate  \n",
            "4998                           11.6                 241        Good  \n",
            "4999                            8.3                 461    Moderate  \n",
            "\n",
            "[5000 rows x 10 columns]>\n"
          ]
        }
      ]
    },
    {
      "cell_type": "markdown",
      "source": [
        "### **Detect and Remove Outliers**\n",
        "We will use the Z-Score Method to identify and remove extreme outliers in our numerical data.\n",
        "(Z-Score is a statistical measure that shows how many standard deviations a data point is away from the mean)."
      ],
      "metadata": {
        "id": "d9jb4EXMdaJO"
      }
    },
    {
      "cell_type": "code",
      "source": [
        "import numpy as np\n",
        "from scipy.stats import zscore\n",
        "numeric_cols = df.select_dtypes(include=['float64', 'int64']).columns\n",
        "\n",
        "threshold = 1.5\n",
        "\n",
        "df = df[(np.abs(zscore(df[numeric_cols])) < threshold).all(axis=1)]\n",
        "print(\"Data after removing outliers:\")\n",
        "print(df)"
      ],
      "metadata": {
        "colab": {
          "base_uri": "https://localhost:8080/"
        },
        "id": "zdbeqE19eMgp",
        "outputId": "1fb995db-2433-4e2b-bb50-5b79834bd935"
      },
      "execution_count": null,
      "outputs": [
        {
          "output_type": "stream",
          "name": "stdout",
          "text": [
            "Data after removing outliers:\n",
            "      Temperature  Humidity  PM2.5  PM10   NO2  SO2    CO  \\\n",
            "48           22.4      69.3    2.2   8.4  19.6  3.0  0.92   \n",
            "242          26.4      60.3    6.5  13.2  21.8  5.1  0.88   \n",
            "248          26.7      71.3    6.2  12.7  23.6  5.9  1.04   \n",
            "253          28.2      68.1    7.2   9.1  20.8  4.7  1.07   \n",
            "342          28.7      63.6    4.2  10.2  20.8  3.2  0.92   \n",
            "...           ...       ...    ...   ...   ...  ...   ...   \n",
            "4676         26.3      54.1    0.9  10.3  25.1  4.5  0.95   \n",
            "4715         25.3      59.4    5.2  10.7  22.1  3.6  1.08   \n",
            "4778         22.6      55.6    7.4   8.0  22.4  4.0  1.10   \n",
            "4876         23.4      61.0    4.4  10.3  17.2  4.4  0.97   \n",
            "4891         24.3      59.5   10.7  15.9  20.8  5.1  0.97   \n",
            "\n",
            "      Proximity_to_Industrial_Areas  Population_Density Air Quality  \n",
            "48                             10.2                 339        Good  \n",
            "242                            11.1                 412        Good  \n",
            "248                            11.1                 389        Good  \n",
            "253                            10.2                 379        Good  \n",
            "342                            11.6                 487        Good  \n",
            "...                             ...                 ...         ...  \n",
            "4676                           10.1                 316        Good  \n",
            "4715                           10.5                 317        Good  \n",
            "4778                           10.8                 330        Good  \n",
            "4876                           11.5                 421        Good  \n",
            "4891                           11.8                 538        Good  \n",
            "\n",
            "[66 rows x 10 columns]\n"
          ]
        }
      ]
    },
    {
      "cell_type": "markdown",
      "source": [
        "# **Data Transformation:**\n",
        "**Encoding:**\n",
        "\n",
        "To help algorithms in processing the data, the \"Air Quality\" column is encoded as follows:\n",
        "\n",
        "\n",
        "*   0 = Hazardous\n",
        "*   1 = Poor\n",
        "*   2 = Moderate\n",
        "*   3 = Good\n",
        "\n"
      ],
      "metadata": {
        "id": "AMHfniAr2nlb"
      }
    },
    {
      "cell_type": "code",
      "source": [
        "le = LabelEncoder()\n",
        "df['Air Quality']=le.fit_transform(df['Air Quality'])\n",
        "print('Encoded Data:\\n')\n",
        "print(df)"
      ],
      "metadata": {
        "colab": {
          "base_uri": "https://localhost:8080/"
        },
        "id": "u9OOKEub5S7y",
        "outputId": "e6681b58-2b1c-4b69-f12b-d74a40992784"
      },
      "execution_count": null,
      "outputs": [
        {
          "output_type": "stream",
          "name": "stdout",
          "text": [
            "Encoded Data:\n",
            "\n",
            "      Temperature  Humidity     PM2.5      PM10       NO2       SO2        CO  \\\n",
            "0       -0.034080 -0.690715 -0.608589 -0.450455 -0.844581 -0.120721  0.402303   \n",
            "1       -0.257295  0.349507 -0.726706 -0.658892  0.493329 -0.046643  0.255775   \n",
            "2       -1.031106  0.292768  0.267100  0.130973 -0.226219  0.383011  0.237459   \n",
            "3       -0.435867 -1.951591 -0.571933 -0.874642 -1.451700 -0.698530 -0.641707   \n",
            "4       -0.525153  0.040593 -0.539349 -0.519934 -0.507293 -0.654083 -0.898130   \n",
            "...           ...       ...       ...       ...       ...       ...       ...   \n",
            "4995     1.573065  0.254942  3.904265  3.528121  2.146042  2.323858  1.116625   \n",
            "4996    -0.287057  1.692340 -0.539349 -0.190824 -0.125033  0.116329  0.072615   \n",
            "4997    -0.614438  0.513421 -0.242022 -0.296871  0.943047 -0.328140  0.237459   \n",
            "4998    -0.703724 -1.617459  0.051232 -0.044553 -0.304920 -0.639268 -1.117922   \n",
            "4999    -0.882296  0.494508  2.507235  2.343325 -0.361135  0.071882 -0.220440   \n",
            "\n",
            "      Proximity_to_Industrial_Areas  Population_Density  Air Quality  \n",
            "0                         -0.588658           -1.168163            2  \n",
            "1                         -0.671748            0.743598            2  \n",
            "2                         -0.893318            0.795975            2  \n",
            "3                          0.740767            0.350770            0  \n",
            "4                          1.183909           -1.272917            0  \n",
            "...                             ...                 ...          ...  \n",
            "4995                      -1.558031            1.751855            1  \n",
            "4996                      -0.754837            1.385216            2  \n",
            "4997                       0.325321           -0.775335            2  \n",
            "4998                       0.879249           -1.678839            0  \n",
            "4999                      -0.034731           -0.238471            2  \n",
            "\n",
            "[5000 rows x 10 columns]\n"
          ]
        }
      ]
    },
    {
      "cell_type": "markdown",
      "source": [
        "**Normalization:**\n",
        "\n",
        "Using Z-score normalization, all the columns (excluding \"Air Quality\") are normalized to unify the scales. This ensures that all columns have equal weight during processing which helps in identifying patterns and relationships more effectively."
      ],
      "metadata": {
        "id": "6CyuPJdP6du6"
      }
    },
    {
      "cell_type": "code",
      "source": [
        "# Extract columns to normalize\n",
        "cols_to_normalize = ['Temperature', 'Humidity', 'PM2.5', 'PM10', 'NO2', 'SO2', 'CO', 'Proximity_to_Industrial_Areas', 'Population_Density']\n",
        "data_to_normalize = df[cols_to_normalize]\n",
        "\n",
        "# Z-score Normalization\n",
        "scaler = StandardScaler()\n",
        "normalized_data = scaler.fit_transform(data_to_normalize)\n",
        "\n",
        "# Replace\n",
        "df[cols_to_normalize] = normalized_data\n",
        "\n",
        "print('Z-score Normalized Data:\\n')\n",
        "print(df)"
      ],
      "metadata": {
        "colab": {
          "base_uri": "https://localhost:8080/"
        },
        "id": "pUxcX4G485Df",
        "outputId": "420cb7b9-56b0-4894-9de7-0ddb5a80bada"
      },
      "execution_count": null,
      "outputs": [
        {
          "output_type": "stream",
          "name": "stdout",
          "text": [
            "Z-score Normalized Data:\n",
            "\n",
            "      Temperature  Humidity     PM2.5      PM10       NO2       SO2        CO  \\\n",
            "0       -0.034080 -0.690715 -0.608589 -0.450455 -0.844581 -0.120721  0.402303   \n",
            "1       -0.257295  0.349507 -0.726706 -0.658892  0.493329 -0.046643  0.255775   \n",
            "2       -1.031106  0.292768  0.267100  0.130973 -0.226219  0.383011  0.237459   \n",
            "3       -0.435867 -1.951591 -0.571933 -0.874642 -1.451700 -0.698530 -0.641707   \n",
            "4       -0.525153  0.040593 -0.539349 -0.519934 -0.507293 -0.654083 -0.898130   \n",
            "...           ...       ...       ...       ...       ...       ...       ...   \n",
            "4995     1.573065  0.254942  3.904265  3.528121  2.146042  2.323858  1.116625   \n",
            "4996    -0.287057  1.692340 -0.539349 -0.190824 -0.125033  0.116329  0.072615   \n",
            "4997    -0.614438  0.513421 -0.242022 -0.296871  0.943047 -0.328140  0.237459   \n",
            "4998    -0.703724 -1.617459  0.051232 -0.044553 -0.304920 -0.639268 -1.117922   \n",
            "4999    -0.882296  0.494508  2.507235  2.343325 -0.361135  0.071882 -0.220440   \n",
            "\n",
            "      Proximity_to_Industrial_Areas  Population_Density  Air Quality  \n",
            "0                         -0.588658           -1.168163            2  \n",
            "1                         -0.671748            0.743598            2  \n",
            "2                         -0.893318            0.795975            2  \n",
            "3                          0.740767            0.350770            0  \n",
            "4                          1.183909           -1.272917            0  \n",
            "...                             ...                 ...          ...  \n",
            "4995                      -1.558031            1.751855            1  \n",
            "4996                      -0.754837            1.385216            2  \n",
            "4997                       0.325321           -0.775335            2  \n",
            "4998                       0.879249           -1.678839            0  \n",
            "4999                      -0.034731           -0.238471            2  \n",
            "\n",
            "[5000 rows x 10 columns]\n"
          ]
        }
      ]
    },
    {
      "cell_type": "markdown",
      "source": [
        "**Discretization:**\n"
      ],
      "metadata": {
        "id": "Q9D74qcFE3Jt"
      }
    },
    {
      "cell_type": "markdown",
      "source": [
        "# **Feature selection**\n",
        "Feature selection is a crucial step in building predictive models, as it helps improve model performance, reduce overfitting, and enhance interpretability. In this air quality dataset, we will use embedded method\n"
      ],
      "metadata": {
        "id": "JZ__S3RohCLE"
      }
    },
    {
      "cell_type": "markdown",
      "source": [
        "**L1 Regularization** also known as Lasso (Least Absolute Shrinkage and Selection Operator), is one of the embedded methods that helps in both regularization and feature selection.\n",
        "\n",
        "Embedded methods were chosen for feature selection in this air quality dataset because they provide a good balance between accuracy and efficiency. Many features, like PM2.5, PM10, NO2, and SO2, are likely correlated, making it important to remove redundancy. These methods automatically filter out less important features, improving model performance while keeping it easy to interpret. Since air quality depends on multiple interconnected factors, embedded methods help select the most relevant features while ensuring they contribute effectively to model accuracy. This makes them a more reliable choice than filter methods."
      ],
      "metadata": {
        "id": "Nbuc1axPnZ8s"
      }
    },
    {
      "cell_type": "code",
      "source": [
        "from sklearn.linear_model import Lasso\n",
        "import pandas as pd\n",
        "data=df\n",
        "df=pd.DataFrame(data)\n",
        "\n",
        "x= df.drop(columns=['Air Quality'])\n",
        "y= df['Air Quality']\n",
        "y = y.map({'Good': 3, 'Moderate': 2, 'Poor': 1, 'Hazardous': 0})\n",
        "\n",
        "model=Lasso(alpha=0.1, max_iter=100000)\n",
        "model.fit(x,y)\n",
        "selected_features=x.columns[model.coef_!=0]\n",
        "\n",
        "print(\"Selected Features for L1 Regularization:\", selected_features)"
      ],
      "metadata": {
        "colab": {
          "base_uri": "https://localhost:8080/"
        },
        "id": "BNYcfXVCjnBj",
        "outputId": "c33237bc-4375-4589-8481-25015e583e73"
      },
      "execution_count": null,
      "outputs": [
        {
          "output_type": "stream",
          "name": "stdout",
          "text": [
            "Selected Features for L1 Regularization: Index(['Temperature', 'Humidity', 'PM2.5', 'PM10', 'NO2', 'SO2',\n",
            "       'Proximity_to_Industrial_Areas', 'Population_Density'],\n",
            "      dtype='object')\n"
          ]
        }
      ]
    },
    {
      "cell_type": "markdown",
      "source": [
        "# **Preprocessed Data**\n",
        "Once the preprocessing techniques have been applied, we will save the changes."
      ],
      "metadata": {
        "id": "rtt9ZPHkwscn"
      }
    },
    {
      "cell_type": "code",
      "source": [
        "df.to_csv('preprocessed_data.csv', index=False)"
      ],
      "metadata": {
        "id": "lfJkSSGZxFjh"
      },
      "execution_count": null,
      "outputs": []
    }
  ]
}