{
  "nbformat": 4,
  "nbformat_minor": 0,
  "metadata": {
    "colab": {
      "provenance": [],
      "toc_visible": true,
      "include_colab_link": true
    },
    "kernelspec": {
      "name": "python3",
      "display_name": "Python 3"
    },
    "language_info": {
      "name": "python"
    }
  },
  "cells": [
    {
      "cell_type": "markdown",
      "metadata": {
        "id": "view-in-github",
        "colab_type": "text"
      },
      "source": [
        "<a href=\"https://colab.research.google.com/github/aljoharas/IT326/blob/main/phase2.ipynb\" target=\"_parent\"><img src=\"https://colab.research.google.com/assets/colab-badge.svg\" alt=\"Open In Colab\"/></a>"
      ]
    },
    {
      "cell_type": "code",
      "execution_count": 125,
      "metadata": {
        "id": "X2651LiUK84F"
      },
      "outputs": [],
      "source": [
        "import pandas as pd\n",
        "import matplotlib.pyplot as plt\n",
        "import os\n",
        "from sklearn.preprocessing import LabelEncoder, StandardScaler\n",
        "df = pd.read_csv('https://raw.githubusercontent.com/aljoharas/IT326/refs/heads/main/Dataset/pollution%20dataset.csv')\n"
      ]
    },
    {
      "cell_type": "markdown",
      "source": [
        "# **Summary of Raw Data**\n",
        "Raw data is unprocessed information gathered from different sources, that has not yet been analyzed or organized. It consists of original data points that often require cleaning and processing before they can provide valuable insights."
      ],
      "metadata": {
        "id": "WV_8zFgILKPK"
      }
    },
    {
      "cell_type": "markdown",
      "source": [
        "### **Displaying raw data**"
      ],
      "metadata": {
        "id": "neofSmiRtTDc"
      }
    },
    {
      "cell_type": "code",
      "source": [
        "summary = df.describe()\n",
        "\n",
        "print(\"Summary of the dataset:\")\n",
        "print(summary)"
      ],
      "metadata": {
        "colab": {
          "base_uri": "https://localhost:8080/"
        },
        "id": "SVZRDSlnieIX",
        "outputId": "56aae7de-6e83-4df7-8d2c-cb13d1015f96"
      },
      "execution_count": 126,
      "outputs": [
        {
          "output_type": "stream",
          "name": "stdout",
          "text": [
            "Summary of the dataset:\n",
            "       Temperature     Humidity        PM2.5         PM10          NO2  \\\n",
            "count  5000.000000  5000.000000  5000.000000  5000.000000  5000.000000   \n",
            "mean     30.029020    70.056120    20.142140    30.218360    26.412100   \n",
            "std       6.720661    15.863577    24.554546    27.349199     8.895356   \n",
            "min      13.400000    36.000000     0.000000    -0.200000     7.400000   \n",
            "25%      25.100000    58.300000     4.600000    12.300000    20.100000   \n",
            "50%      29.000000    69.800000    12.000000    21.700000    25.300000   \n",
            "75%      34.000000    80.300000    26.100000    38.100000    31.900000   \n",
            "max      58.600000   128.100000   295.000000   315.800000    64.900000   \n",
            "\n",
            "               SO2           CO  Proximity_to_Industrial_Areas  \\\n",
            "count  5000.000000  5000.000000                    5000.000000   \n",
            "mean     10.014820     1.500354                       8.425400   \n",
            "std       6.750303     0.546027                       3.610944   \n",
            "min      -6.200000     0.650000                       2.500000   \n",
            "25%       5.100000     1.030000                       5.400000   \n",
            "50%       8.000000     1.410000                       7.900000   \n",
            "75%      13.725000     1.840000                      11.100000   \n",
            "max      44.900000     3.720000                      25.800000   \n",
            "\n",
            "       Population_Density  \n",
            "count         5000.000000  \n",
            "mean           497.423800  \n",
            "std            152.754084  \n",
            "min            188.000000  \n",
            "25%            381.000000  \n",
            "50%            494.000000  \n",
            "75%            600.000000  \n",
            "max            957.000000  \n"
          ]
        }
      ]
    },
    {
      "cell_type": "code",
      "source": [
        "import matplotlib.pyplot as plt\n",
        "air_quality_distribution = df['Air Quality'].value_counts()\n",
        "print(\"Air Quality:\\n\", air_quality_distribution)"
      ],
      "metadata": {
        "colab": {
          "base_uri": "https://localhost:8080/"
        },
        "id": "B7JP-cVWtVcl",
        "outputId": "ed80e70d-444f-4e10-a6c3-9ec5ad34b241"
      },
      "execution_count": 127,
      "outputs": [
        {
          "output_type": "stream",
          "name": "stdout",
          "text": [
            "Air Quality:\n",
            " Air Quality\n",
            "Good         2000\n",
            "Moderate     1500\n",
            "Poor         1000\n",
            "Hazardous     500\n",
            "Name: count, dtype: int64\n"
          ]
        }
      ]
    },
    {
      "cell_type": "markdown",
      "source": [
        "**Sampling**"
      ],
      "metadata": {
        "id": "ko2eBlaEvKWa"
      }
    },
    {
      "cell_type": "markdown",
      "source": [
        "### **Statistical Measures:**\n",
        "Descriptive statistics for numeric values summarize key features of a dataset.\n",
        "\n",
        "\n",
        "**Min:** The minimum value in the dataset.\n",
        "\n",
        "**Q1 (25%):** The first quartile, representing the value below which 25% of the data fall.\n",
        "\n",
        "**Median (50%):** The middle value when the data is sorted in ascending order.\n",
        "\n",
        "**Q3 (75%):** The third quartile, representing the value below which 75% of the data fall.\n",
        "\n",
        "**Max:** The maximum value in the dataset."
      ],
      "metadata": {
        "id": "3MZ5VmqJtGsc"
      }
    },
    {
      "cell_type": "code",
      "source": [
        "statistical_measures = df.describe(percentiles=[.25, .5, .75]).transpose()\n",
        "\n",
        "# To get min, Q1, median, Q3, max:\n",
        "statistical_measures = statistical_measures[['min', '25%', '50%', '75%', 'max']]\n",
        "\n",
        "statistical_measures.columns = ['Min', 'Q1', 'Median', 'Q3', 'Max']\n",
        "\n",
        "# Display the results\n",
        "print(statistical_measures)"
      ],
      "metadata": {
        "colab": {
          "base_uri": "https://localhost:8080/"
        },
        "id": "SYgBQGhtqGT_",
        "outputId": "7b85c76c-8b31-4598-9d7b-aa97db048d31"
      },
      "execution_count": 128,
      "outputs": [
        {
          "output_type": "stream",
          "name": "stdout",
          "text": [
            "                                  Min      Q1  Median       Q3     Max\n",
            "Temperature                     13.40   25.10   29.00   34.000   58.60\n",
            "Humidity                        36.00   58.30   69.80   80.300  128.10\n",
            "PM2.5                            0.00    4.60   12.00   26.100  295.00\n",
            "PM10                            -0.20   12.30   21.70   38.100  315.80\n",
            "NO2                              7.40   20.10   25.30   31.900   64.90\n",
            "SO2                             -6.20    5.10    8.00   13.725   44.90\n",
            "CO                               0.65    1.03    1.41    1.840    3.72\n",
            "Proximity_to_Industrial_Areas    2.50    5.40    7.90   11.100   25.80\n",
            "Population_Density             188.00  381.00  494.00  600.000  957.00\n"
          ]
        }
      ]
    },
    {
      "cell_type": "markdown",
      "source": [
        "The summary of statistical measures gave insights on key pollutants including PM2.5, with levels ranging from 0.00 to 295.00 µg/m³ and a median of 12.00 µg/m³, suggesting moderate air quality but with spikes in some areas. PM10 also exhibits a similar pattern with a range of -0.20 - 315.80 and a median of 21.70. , The presence of high PM2.5 and PM10 levels suggests areas with poor air quality.\n",
        "\n",
        "Nitrogen dioxide (NO2) levels range from 7.40 to 64.90 µg/m³. In contrast, sulfur dioxide (SO2) Range -6.20 - 44.90, with a median of 8.00, and carbon monoxide (CO) Range 0.65 - 3.72, with a median of 1.41 levels are both relatively low, indicating minimal industrial activity and combustion-related pollution.\n",
        "\n",
        "The temperature ranged from 13.40 to 58.60, with a median of 29.00. indicating temperature varies significantly, possibly from the different seasons or geographical locations. On the other hand, Humidity range was 36.00 - 128.10, with a median of 69.80. Humidity levels are relatively high.\n",
        "\n",
        "The Population Density range 188.00 - 957.00, with a median of 494.00. meaning Population density varies significantly, indicating a mix of urban and rural areas. and the Proximity to Industrial Areas range was 2.50 - 25.80, with a median of 7.90. This measure suggests being closer to industrial areas is associated with higher levels of (PM2.5 and PM10) in the air."
      ],
      "metadata": {
        "id": "tEPehqw7J1OC"
      }
    },
    {
      "cell_type": "markdown",
      "source": [
        "### **Variables Distribution**\n",
        "Variable distribution refers to the way the values of a specific variable are spread or organized within a dataset. It indicates the frequency or likelihood of different outcomes for that variable, helping to uncover patterns, trends, and potential anomalies.\n"
      ],
      "metadata": {
        "id": "ICmhwvunQfcq"
      }
    },
    {
      "cell_type": "code",
      "source": [
        "numeric_df = df.select_dtypes(include='number')\n",
        "correlation_matrix = numeric_df.corr()\n",
        "\n",
        "plt.figure(figsize=(10, 8))\n",
        "sns.heatmap(correlation_matrix, annot=True, cmap='coolwarm', fmt='.2f')\n",
        "plt.title('Correlation Matrix Heatmap')\n",
        "plt.show()"
      ],
      "metadata": {
        "colab": {
          "base_uri": "https://localhost:8080/",
          "height": 233
        },
        "id": "VgnrdFycQvDG",
        "outputId": "45969cc6-c122-4c45-9acb-5faee6da325f"
      },
      "execution_count": 130,
      "outputs": [
        {
          "output_type": "error",
          "ename": "NameError",
          "evalue": "name 'sns' is not defined",
          "traceback": [
            "\u001b[0;31m---------------------------------------------------------------------------\u001b[0m",
            "\u001b[0;31mNameError\u001b[0m                                 Traceback (most recent call last)",
            "\u001b[0;32m<ipython-input-130-1ef101c127c0>\u001b[0m in \u001b[0;36m<cell line: 0>\u001b[0;34m()\u001b[0m\n\u001b[1;32m      3\u001b[0m \u001b[0;34m\u001b[0m\u001b[0m\n\u001b[1;32m      4\u001b[0m \u001b[0mplt\u001b[0m\u001b[0;34m.\u001b[0m\u001b[0mfigure\u001b[0m\u001b[0;34m(\u001b[0m\u001b[0mfigsize\u001b[0m\u001b[0;34m=\u001b[0m\u001b[0;34m(\u001b[0m\u001b[0;36m10\u001b[0m\u001b[0;34m,\u001b[0m \u001b[0;36m8\u001b[0m\u001b[0;34m)\u001b[0m\u001b[0;34m)\u001b[0m\u001b[0;34m\u001b[0m\u001b[0;34m\u001b[0m\u001b[0m\n\u001b[0;32m----> 5\u001b[0;31m \u001b[0msns\u001b[0m\u001b[0;34m.\u001b[0m\u001b[0mheatmap\u001b[0m\u001b[0;34m(\u001b[0m\u001b[0mcorrelation_matrix\u001b[0m\u001b[0;34m,\u001b[0m \u001b[0mannot\u001b[0m\u001b[0;34m=\u001b[0m\u001b[0;32mTrue\u001b[0m\u001b[0;34m,\u001b[0m \u001b[0mcmap\u001b[0m\u001b[0;34m=\u001b[0m\u001b[0;34m'coolwarm'\u001b[0m\u001b[0;34m,\u001b[0m \u001b[0mfmt\u001b[0m\u001b[0;34m=\u001b[0m\u001b[0;34m'.2f'\u001b[0m\u001b[0;34m)\u001b[0m\u001b[0;34m\u001b[0m\u001b[0;34m\u001b[0m\u001b[0m\n\u001b[0m\u001b[1;32m      6\u001b[0m \u001b[0mplt\u001b[0m\u001b[0;34m.\u001b[0m\u001b[0mtitle\u001b[0m\u001b[0;34m(\u001b[0m\u001b[0;34m'Correlation Matrix Heatmap'\u001b[0m\u001b[0;34m)\u001b[0m\u001b[0;34m\u001b[0m\u001b[0;34m\u001b[0m\u001b[0m\n\u001b[1;32m      7\u001b[0m \u001b[0mplt\u001b[0m\u001b[0;34m.\u001b[0m\u001b[0mshow\u001b[0m\u001b[0;34m(\u001b[0m\u001b[0;34m)\u001b[0m\u001b[0;34m\u001b[0m\u001b[0;34m\u001b[0m\u001b[0m\n",
            "\u001b[0;31mNameError\u001b[0m: name 'sns' is not defined"
          ]
        },
        {
          "output_type": "display_data",
          "data": {
            "text/plain": [
              "<Figure size 1000x800 with 0 Axes>"
            ]
          },
          "metadata": {}
        }
      ]
    },
    {
      "cell_type": "markdown",
      "source": [
        "**Positive Correlations:**\n",
        "\n",
        "PM2.5 and PM10 are strongly related. If one increases, the other also increases. This is because they both come from similar pollution sources.\n",
        "\n",
        "NO2 and CO may also have a strong connection since they both come from cars and factories.\n",
        "\n",
        "**Negative Correlations:**\n",
        "\n",
        "Temperature and pollution might have a negative Correlation. When the temperature is high, pollution spreads out more, but when it is low, pollution stays in the air.\n",
        "\n",
        "Air quality and industrial areas/population density might be related. More factories and people can mean more pollution."
      ],
      "metadata": {
        "id": "45FAcCbIszEU"
      }
    },
    {
      "cell_type": "markdown",
      "source": [
        "**Class Imbalance Detection**"
      ],
      "metadata": {
        "id": "baQ1FgEgmhLz"
      }
    },
    {
      "cell_type": "code",
      "source": [
        "import seaborn as sns\n",
        "\n",
        "plt.figure(figsize=(12, 6))\n",
        "sns.countplot(x='Air Quality', data=df)\n",
        "plt.title('Class Imbalance Detection')\n",
        "plt.xlabel('Air Quality')\n",
        "plt.ylabel('Count')\n",
        "plt.show()"
      ],
      "metadata": {
        "id": "86C2G0YvmfQa",
        "outputId": "9008796e-d008-4c6e-c88e-ec9b8125f59f",
        "colab": {
          "base_uri": "https://localhost:8080/",
          "height": 564
        }
      },
      "execution_count": 131,
      "outputs": [
        {
          "output_type": "display_data",
          "data": {
            "text/plain": [
              "<Figure size 1200x600 with 1 Axes>"
            ],
            "image/png": "[encoded data removed]"
          },
          "metadata": {}
        }
      ]
    },
    {
      "cell_type": "markdown",
      "source": [
        "\n",
        "\"Good\": 2000 samples (most common)\n",
        "\n",
        "\"Moderate\": 1500 samples\n",
        "\n",
        "\"Poor\": 1000 samples\n",
        "\n",
        "\"Hazardous\": 500 samples (least common)\n",
        "\n",
        "\n",
        "The dataset is imbalanced because the \"Hazardous\" class has much fewer samples (500) compared to \"Good\" (2000)."
      ],
      "metadata": {
        "id": "PROdeQq_nEnj"
      }
    },
    {
      "cell_type": "markdown",
      "source": [
        "# **Data Preprocessing**\n",
        "Before we proceed with data analysis, we need to clean the dataset to ensure accurate and reliable results.\n"
      ],
      "metadata": {
        "id": "_sf6zPGIY3_R"
      }
    },
    {
      "cell_type": "markdown",
      "source": [
        "### **Remove Noise**\n",
        "\n",
        "Noisy data consists of errors, outliers, missing values, or inconsistencies that can affect the accuracy of our model. We will address this by:\n",
        "\n",
        "- Removing unnecessary columns.\n",
        "\n",
        "- Handling the missing values.\n",
        "\n",
        "- Detecting and removing outliers."
      ],
      "metadata": {
        "id": "4lKDfMp2aYki"
      }
    },
    {
      "cell_type": "markdown",
      "source": [
        "### **Delete Unnecessary Columns**\n",
        "\n",
        "Since no columns have been specifically identified as unnecessary, we will retain all columns for the time being."
      ],
      "metadata": {
        "id": "9I_1PdNxadM0"
      }
    },
    {
      "cell_type": "markdown",
      "source": [
        "### **Detect and Handle Missing Values**\n"
      ],
      "metadata": {
        "id": "VeOcS3idav2d"
      }
    },
    {
      "cell_type": "code",
      "source": [
        "missing_values = df.isna().sum()\n",
        "\n",
        "print('Missing values in each column:')\n",
        "print(missing_values)\n",
        "\n",
        "print('\\nTotal number of missing values:', missing_values.sum())"
      ],
      "metadata": {
        "colab": {
          "base_uri": "https://localhost:8080/"
        },
        "id": "CrpFeyqbb8hF",
        "outputId": "d15d4a59-d4d0-4120-dc06-a8a47d7feb13"
      },
      "execution_count": 132,
      "outputs": [
        {
          "output_type": "stream",
          "name": "stdout",
          "text": [
            "Missing values in each column:\n",
            "Temperature                      0\n",
            "Humidity                         0\n",
            "PM2.5                            0\n",
            "PM10                             0\n",
            "NO2                              0\n",
            "SO2                              0\n",
            "CO                               0\n",
            "Proximity_to_Industrial_Areas    0\n",
            "Population_Density               0\n",
            "Air Quality                      0\n",
            "dtype: int64\n",
            "\n",
            "Total number of missing values: 0\n"
          ]
        }
      ]
    },
    {
      "cell_type": "markdown",
      "source": [
        "**Note:** The dataset doesn't have any missing values. But, just in case, we will replace any missing values with the mean of the corresponding columns."
      ],
      "metadata": {
        "id": "sQUAvWaqcJOO"
      }
    },
    {
      "cell_type": "code",
      "source": [
        "column_means = df.mean(numeric_only=True)\n",
        "df.fillna(column_means, inplace=True)\n",
        "print(df.fillna)"
      ],
      "metadata": {
        "colab": {
          "base_uri": "https://localhost:8080/"
        },
        "id": "oCFk-1YHcdUB",
        "outputId": "b6aa37af-52ce-4b8e-f622-4401ee29e7f8"
      },
      "execution_count": 133,
      "outputs": [
        {
          "output_type": "stream",
          "name": "stdout",
          "text": [
            "<bound method NDFrame.fillna of       Temperature  Humidity  PM2.5   PM10   NO2   SO2    CO  \\\n",
            "0            29.8      59.1    5.2   17.9  18.9   9.2  1.72   \n",
            "1            28.3      75.6    2.3   12.2  30.8   9.7  1.64   \n",
            "2            23.1      74.7   26.7   33.8  24.4  12.6  1.63   \n",
            "3            27.1      39.1    6.1    6.3  13.5   5.3  1.15   \n",
            "4            26.5      70.7    6.9   16.0  21.9   5.6  1.01   \n",
            "...           ...       ...    ...    ...   ...   ...   ...   \n",
            "4995         40.6      74.1  116.0  126.7  45.5  25.7  2.11   \n",
            "4996         28.1      96.9    6.9   25.0  25.3  10.8  1.54   \n",
            "4997         25.9      78.2   14.2   22.1  34.8   7.8  1.63   \n",
            "4998         25.3      44.4   21.4   29.0  23.7   5.7  0.89   \n",
            "4999         24.1      77.9   81.7   94.3  23.2  10.5  1.38   \n",
            "\n",
            "      Proximity_to_Industrial_Areas  Population_Density Air Quality  \n",
            "0                               6.3                 319    Moderate  \n",
            "1                               6.0                 611    Moderate  \n",
            "2                               5.2                 619    Moderate  \n",
            "3                              11.1                 551        Good  \n",
            "4                              12.7                 303        Good  \n",
            "...                             ...                 ...         ...  \n",
            "4995                            2.8                 765   Hazardous  \n",
            "4996                            5.7                 709    Moderate  \n",
            "4997                            9.6                 379    Moderate  \n",
            "4998                           11.6                 241        Good  \n",
            "4999                            8.3                 461    Moderate  \n",
            "\n",
            "[5000 rows x 10 columns]>\n"
          ]
        }
      ]
    },
    {
      "cell_type": "markdown",
      "source": [
        "### **Detect and Remove Outliers**\n",
        "We will use the Z-Score Method to identify and remove extreme outliers in our numerical data.\n",
        "(Z-Score is a statistical measure that shows how many standard deviations a data point is away from the mean)."
      ],
      "metadata": {
        "id": "d9jb4EXMdaJO"
      }
    },
    {
      "cell_type": "code",
      "source": [
        "import numpy as np\n",
        "from scipy.stats import zscore\n",
        "numeric_cols = df.select_dtypes(include=['float64', 'int64']).columns\n",
        "\n",
        "threshold = 1.5\n",
        "\n",
        "df = df[(np.abs(zscore(df[numeric_cols])) < threshold).all(axis=1)]\n",
        "print(\"Data after removing outliers:\")\n",
        "print(df)\n",
        "df = df.dropna(subset=['Air Quality'])\n"
      ],
      "metadata": {
        "colab": {
          "base_uri": "https://localhost:8080/"
        },
        "id": "zdbeqE19eMgp",
        "outputId": "b1504b6c-129e-432e-801f-ec339db7ce08"
      },
      "execution_count": 134,
      "outputs": [
        {
          "output_type": "stream",
          "name": "stdout",
          "text": [
            "Data after removing outliers:\n",
            "      Temperature  Humidity  PM2.5  PM10   NO2   SO2    CO  \\\n",
            "0            29.8      59.1    5.2  17.9  18.9   9.2  1.72   \n",
            "1            28.3      75.6    2.3  12.2  30.8   9.7  1.64   \n",
            "2            23.1      74.7   26.7  33.8  24.4  12.6  1.63   \n",
            "4            26.5      70.7    6.9  16.0  21.9   5.6  1.01   \n",
            "7            31.0      59.6    5.0  16.8  24.2  13.6  1.38   \n",
            "...           ...       ...    ...   ...   ...   ...   ...   \n",
            "4985         26.8      72.5    2.4  12.8  26.4  13.2  1.38   \n",
            "4991         31.8      80.2   22.4  34.1  29.7   4.9  1.22   \n",
            "4992         29.8      56.7    6.8  14.0  23.0   4.5  1.10   \n",
            "4993         34.9      77.7   32.3  47.1  17.4  11.5  1.63   \n",
            "4997         25.9      78.2   14.2  22.1  34.8   7.8  1.63   \n",
            "\n",
            "      Proximity_to_Industrial_Areas  Population_Density Air Quality  \n",
            "0                               6.3                 319    Moderate  \n",
            "1                               6.0                 611    Moderate  \n",
            "2                               5.2                 619    Moderate  \n",
            "4                              12.7                 303        Good  \n",
            "7                               6.3                 443    Moderate  \n",
            "...                             ...                 ...         ...  \n",
            "4985                            6.5                 484    Moderate  \n",
            "4991                            9.4                 580    Moderate  \n",
            "4992                           11.4                 567        Good  \n",
            "4993                            8.8                 541    Moderate  \n",
            "4997                            9.6                 379    Moderate  \n",
            "\n",
            "[2623 rows x 10 columns]\n"
          ]
        }
      ]
    },
    {
      "cell_type": "markdown",
      "source": [
        "# **Data Transformation:**"
      ],
      "metadata": {
        "id": "OvA3o2SQ8cOm"
      }
    },
    {
      "cell_type": "markdown",
      "source": [
        "### **Encoding**"
      ],
      "metadata": {
        "id": "rd_JZHnO8iCS"
      }
    },
    {
      "cell_type": "markdown",
      "source": [
        "To help algorithms in processing the data, the \"Air Quality\" column is encoded by LabelEncoder as follows:\n",
        "\n",
        "\n",
        "*   0 = Good\n",
        "*   1 = Hazardous\n",
        "*   2 = Moderate\n",
        "*   3 = Poor\n"
      ],
      "metadata": {
        "id": "sxmtj1U4GmL9"
      }
    },
    {
      "cell_type": "code",
      "source": [
        "# Create a LabelEncoder object\n",
        "le = LabelEncoder()\n",
        "\n",
        "# Encode the Air Quality column into numerical labels\n",
        "df['Air Quality']=le.fit_transform(df['Air Quality'])\n",
        "\n",
        "print('Encoded Data:\\n')\n",
        "print(df.head(20))\n"
      ],
      "metadata": {
        "id": "wPPEljr6_gr4",
        "outputId": "2c8bb540-86cc-4eed-d782-f640f68cb067",
        "colab": {
          "base_uri": "https://localhost:8080/"
        }
      },
      "execution_count": 135,
      "outputs": [
        {
          "output_type": "stream",
          "name": "stdout",
          "text": [
            "Encoded Data:\n",
            "\n",
            "    Temperature  Humidity  PM2.5  PM10   NO2   SO2    CO  \\\n",
            "0          29.8      59.1    5.2  17.9  18.9   9.2  1.72   \n",
            "1          28.3      75.6    2.3  12.2  30.8   9.7  1.64   \n",
            "2          23.1      74.7   26.7  33.8  24.4  12.6  1.63   \n",
            "4          26.5      70.7    6.9  16.0  21.9   5.6  1.01   \n",
            "7          31.0      59.6    5.0  16.8  24.2  13.6  1.38   \n",
            "9          33.2      80.5   11.1  24.4  32.0  15.3  1.69   \n",
            "10         26.3      65.7    1.3   5.5  18.3   5.9  0.85   \n",
            "11         32.5      51.2    1.6  10.5  21.6  19.3  1.53   \n",
            "12         20.0      53.3    3.7  12.9  26.1   6.6  1.09   \n",
            "13         28.6      53.7   28.9  34.0  23.2   4.5  1.02   \n",
            "15         32.0      78.9   22.4  29.9  27.5  11.8  1.48   \n",
            "18         34.7      59.3    9.0  15.7  28.5   7.1  1.52   \n",
            "22         25.6      58.3    0.4  -0.2  25.3   4.5  0.98   \n",
            "23         24.6      48.4    8.3  15.4  23.3   4.6  1.03   \n",
            "25         22.6      62.1   16.4  21.3  17.6   4.8  0.93   \n",
            "26         30.0      69.2    2.0   3.9  15.3   5.2  1.09   \n",
            "27         37.6      72.2   10.1  16.6  32.2   6.3  1.85   \n",
            "28         29.6      65.6    3.4   9.3  20.6   2.9  1.03   \n",
            "34         21.8      79.6    7.1  16.8  14.5   6.0  0.91   \n",
            "36         27.5      78.9   30.2  34.1  15.3   3.0  0.98   \n",
            "\n",
            "    Proximity_to_Industrial_Areas  Population_Density  Air Quality  \n",
            "0                             6.3                 319            2  \n",
            "1                             6.0                 611            2  \n",
            "2                             5.2                 619            2  \n",
            "4                            12.7                 303            0  \n",
            "7                             6.3                 443            2  \n",
            "9                             4.9                 535            3  \n",
            "10                           13.0                 529            0  \n",
            "11                            5.9                 519            2  \n",
            "12                           10.2                 538            0  \n",
            "13                           11.0                 508            0  \n",
            "15                            7.9                 444            2  \n",
            "18                            6.1                 437            2  \n",
            "22                           10.0                 536            0  \n",
            "23                           11.2                 461            0  \n",
            "25                           11.5                 324            0  \n",
            "26                           10.1                 297            0  \n",
            "27                            3.5                 637            3  \n",
            "28                           10.2                 452            0  \n",
            "34                           10.8                 455            0  \n",
            "36                           11.1                 472            0  \n"
          ]
        }
      ]
    },
    {
      "cell_type": "markdown",
      "source": [
        "### **Normalization:**"
      ],
      "metadata": {
        "id": "KonuLoe2GI16"
      }
    },
    {
      "cell_type": "markdown",
      "source": [
        "Using Z-score normalization, all the columns (excluding \"Air Quality\") are normalized to unify the scales. This ensures that all columns have equal weight during processing which helps in identifying patterns and relationships more effectively."
      ],
      "metadata": {
        "id": "ZefRaqrzGv05"
      }
    },
    {
      "cell_type": "code",
      "source": [
        "# Define numerical columns to normalize\n",
        "cols_to_normalize = ['Temperature', 'Humidity', 'PM2.5', 'PM10', 'NO2', 'SO2', 'CO', 'Proximity_to_Industrial_Areas', 'Population_Density']\n",
        "data_to_normalize = df[cols_to_normalize]\n",
        "\n",
        "# Create a StandardScaler object\n",
        "scaler = StandardScaler()\n",
        "\n",
        "# Transorm the data into its normalized form\n",
        "normalized_data = scaler.fit_transform(data_to_normalize)\n",
        "\n",
        "# Replace the original columns with the normalized values\n",
        "df[cols_to_normalize] = normalized_data\n",
        "\n",
        "print('Z-score Normalized Data:\\n')\n",
        "print(df)"
      ],
      "metadata": {
        "id": "zFrr-pD1GU1O",
        "outputId": "ddad2602-2af3-4f77-caa2-f1b84aa63915",
        "colab": {
          "base_uri": "https://localhost:8080/"
        }
      },
      "execution_count": 136,
      "outputs": [
        {
          "output_type": "stream",
          "name": "stdout",
          "text": [
            "Z-score Normalized Data:\n",
            "\n",
            "      Temperature  Humidity     PM2.5      PM10       NO2       SO2        CO  \\\n",
            "0        0.249883 -0.776009 -0.709095 -0.357265 -0.943751  0.186610  1.007672   \n",
            "1       -0.081730  0.617982 -0.930408 -0.746832  1.019982  0.301814  0.782907   \n",
            "2       -1.231322  0.541946  0.931670  0.729421 -0.036143  0.969996  0.754811   \n",
            "4       -0.479665  0.204009 -0.579360 -0.487121 -0.448692 -0.642858 -0.987117   \n",
            "7        0.515174 -0.733767 -0.724358 -0.432445 -0.069147  1.200404  0.052421   \n",
            "...           ...       ...       ...       ...       ...       ...       ...   \n",
            "4985    -0.413343  0.356081 -0.922776 -0.705825  0.293896  1.108241  0.052421   \n",
            "4991     0.692034  1.006610  0.603517  0.749925  0.838460 -0.804143 -0.397109   \n",
            "4992     0.249883 -0.978771 -0.586992 -0.623811 -0.267171 -0.896306 -0.734256   \n",
            "4993     1.377368  0.795399  1.359033  1.638411 -1.191280  0.716548  0.754811   \n",
            "4997    -0.612311  0.837641 -0.022263 -0.070216  1.680060 -0.135961  0.754811   \n",
            "\n",
            "      Proximity_to_Industrial_Areas  Population_Density  Air Quality  \n",
            "0                         -0.750681           -1.402200            2  \n",
            "1                         -0.857190            1.158255            2  \n",
            "2                         -1.141215            1.228404            2  \n",
            "4                          1.521516           -1.542499            0  \n",
            "7                         -0.750681           -0.314884            2  \n",
            "...                             ...                 ...          ...  \n",
            "4985                      -0.679675            0.044632            2  \n",
            "4991                       0.349914            0.886426            2  \n",
            "4992                       1.059976            0.772433            0  \n",
            "4993                       0.136896            0.544447            2  \n",
            "4997                       0.420921           -0.876079            2  \n",
            "\n",
            "[2623 rows x 10 columns]\n"
          ]
        }
      ]
    },
    {
      "cell_type": "markdown",
      "source": [
        "### Discretization"
      ],
      "metadata": {
        "id": "q8ACMB7oHZ7x"
      }
    },
    {
      "cell_type": "markdown",
      "source": [
        "To help simplify data analysis and interpretation, the columns were discretized 3 bins. The ranges of the bins were calculated automatically and are shown at the end of the output."
      ],
      "metadata": {
        "id": "If1Ix1raSdwt"
      }
    },
    {
      "cell_type": "code",
      "source": [
        "# Define the columns to be discretized\n",
        "columns_to_discretize = ['Temperature', 'Humidity', 'PM2.5', 'PM10', 'NO2', 'SO2', 'CO', 'Proximity_to_Industrial_Areas', 'Population_Density']\n",
        "\n",
        "# Define the number of bins\n",
        "num_bins = 3\n",
        "\n",
        "# Define an empty dictionary to store the bin edges of each column\n",
        "bin_edges_dict = {}\n",
        "\n",
        "# Loop through each column\n",
        "for column in columns_to_discretize:\n",
        "    # Discretize the column into 3 bins\n",
        "    df[column], bin_edges = pd.cut(df[column], bins=num_bins, labels=False, retbins=True)\n",
        "\n",
        "    # Store the bin edges of the column in the dictionary\n",
        "    bin_edges_dict[column] = bin_edges\n",
        "\n",
        "print(\"Discretized Data:\\n\")\n",
        "print(df, \"\\n \\n\")\n",
        "print(\"Bin Edges:\\n\") # Note that the columns are discretized after normalization, so they all have the same edges\n",
        "print(bin_edges_dict)"
      ],
      "metadata": {
        "id": "BW9m_ycuMUPh",
        "outputId": "66ceae5e-bf2f-4394-966d-050b730a760e",
        "colab": {
          "base_uri": "https://localhost:8080/"
        }
      },
      "execution_count": 138,
      "outputs": [
        {
          "output_type": "stream",
          "name": "stdout",
          "text": [
            "Discretized Data:\n",
            "\n",
            "      Temperature  Humidity  PM2.5  PM10  NO2  SO2  CO  \\\n",
            "0               1         0      0     0    0    1   1   \n",
            "1               1         1      0     0    1    1   1   \n",
            "2               0         1      1     1    1    1   1   \n",
            "4               0         1      0     0    0    0   0   \n",
            "7               1         0      0     0    1    2   1   \n",
            "...           ...       ...    ...   ...  ...  ...  ..   \n",
            "4985            1         1      0     0    1    1   1   \n",
            "4991            1         2      1     1    1    0   0   \n",
            "4992            1         0      0     0    1    0   0   \n",
            "4993            2         1      1     2    0    1   1   \n",
            "4997            0         2      0     0    2    1   1   \n",
            "\n",
            "      Proximity_to_Industrial_Areas  Population_Density  Air Quality  \n",
            "0                                 0                   0            2  \n",
            "1                                 0                   2            2  \n",
            "2                                 0                   2            2  \n",
            "4                                 2                   0            0  \n",
            "7                                 0                   1            2  \n",
            "...                             ...                 ...          ...  \n",
            "4985                              0                   1            2  \n",
            "4991                              1                   2            2  \n",
            "4992                              2                   1            0  \n",
            "4993                              1                   1            2  \n",
            "4997                              1                   0            2  \n",
            "\n",
            "[2623 rows x 10 columns] \n",
            " \n",
            "\n",
            "Bin Edges:\n",
            "\n",
            "{'Temperature': array([-0.002     ,  0.66666667,  1.33333333,  2.        ]), 'Humidity': array([-0.002     ,  0.66666667,  1.33333333,  2.        ]), 'PM2.5': array([-0.002     ,  0.66666667,  1.33333333,  2.        ]), 'PM10': array([-0.002     ,  0.66666667,  1.33333333,  2.        ]), 'NO2': array([-0.002     ,  0.66666667,  1.33333333,  2.        ]), 'SO2': array([-0.002     ,  0.66666667,  1.33333333,  2.        ]), 'CO': array([-0.002     ,  0.66666667,  1.33333333,  2.        ]), 'Proximity_to_Industrial_Areas': array([-0.002     ,  0.66666667,  1.33333333,  2.        ]), 'Population_Density': array([-0.002     ,  0.66666667,  1.33333333,  2.        ])}\n"
          ]
        }
      ]
    },
    {
      "cell_type": "markdown",
      "source": [
        "# **Feature selection**\n",
        "\n"
      ],
      "metadata": {
        "id": "JZ__S3RohCLE"
      }
    },
    {
      "cell_type": "markdown",
      "source": [
        "Embedded methods were chosen for feature selection in this air quality dataset because they provide a good balance between accuracy and efficiency. Many features, like PM2.5, PM10, NO2, and SO2, are likely correlated, making it important to remove redundancy. These methods automatically filter out less important features, improving model performance while keeping it easy to interpret. Since air quality depends on multiple interconnected factors, embedded methods help select the most relevant features while ensuring they contribute effectively to model accuracy. This makes them a more reliable choice than filter methods.\n"
      ],
      "metadata": {
        "id": "Nbuc1axPnZ8s"
      }
    },
    {
      "cell_type": "code",
      "source": [
        "from sklearn.linear_model import Lasso\n",
        "import pandas as pd\n",
        "data=df\n",
        "df=pd.DataFrame(data)\n",
        "\n",
        "x= df.drop(columns=['Air Quality'])\n",
        "y= df['Air Quality']\n",
        "y = y.map({'Good': 3, 'Moderate': 2, 'Poor': 1, 'Hazardous': 0})\n",
        "\n",
        "model=Lasso(alpha=0.1, max_iter=100000)\n",
        "model.fit(x,y)\n",
        "selected_features=x.columns[model.coef_!=0]\n",
        "\n",
        "print(\"Selected Features for L1 Regularization:\", selected_features)"
      ],
      "metadata": {
        "colab": {
          "base_uri": "https://localhost:8080/",
          "height": 382
        },
        "id": "BNYcfXVCjnBj",
        "outputId": "277ac0de-0ece-446f-caab-3d598d55e1fc"
      },
      "execution_count": 139,
      "outputs": [
        {
          "output_type": "error",
          "ename": "ValueError",
          "evalue": "Input y contains NaN.",
          "traceback": [
            "\u001b[0;31m---------------------------------------------------------------------------\u001b[0m",
            "\u001b[0;31mValueError\u001b[0m                                Traceback (most recent call last)",
            "\u001b[0;32m<ipython-input-139-0b5ad6cec60c>\u001b[0m in \u001b[0;36m<cell line: 0>\u001b[0;34m()\u001b[0m\n\u001b[1;32m      9\u001b[0m \u001b[0;34m\u001b[0m\u001b[0m\n\u001b[1;32m     10\u001b[0m \u001b[0mmodel\u001b[0m\u001b[0;34m=\u001b[0m\u001b[0mLasso\u001b[0m\u001b[0;34m(\u001b[0m\u001b[0malpha\u001b[0m\u001b[0;34m=\u001b[0m\u001b[0;36m0.1\u001b[0m\u001b[0;34m,\u001b[0m \u001b[0mmax_iter\u001b[0m\u001b[0;34m=\u001b[0m\u001b[0;36m100000\u001b[0m\u001b[0;34m)\u001b[0m\u001b[0;34m\u001b[0m\u001b[0;34m\u001b[0m\u001b[0m\n\u001b[0;32m---> 11\u001b[0;31m \u001b[0mmodel\u001b[0m\u001b[0;34m.\u001b[0m\u001b[0mfit\u001b[0m\u001b[0;34m(\u001b[0m\u001b[0mx\u001b[0m\u001b[0;34m,\u001b[0m\u001b[0my\u001b[0m\u001b[0;34m)\u001b[0m\u001b[0;34m\u001b[0m\u001b[0;34m\u001b[0m\u001b[0m\n\u001b[0m\u001b[1;32m     12\u001b[0m \u001b[0mselected_features\u001b[0m\u001b[0;34m=\u001b[0m\u001b[0mx\u001b[0m\u001b[0;34m.\u001b[0m\u001b[0mcolumns\u001b[0m\u001b[0;34m[\u001b[0m\u001b[0mmodel\u001b[0m\u001b[0;34m.\u001b[0m\u001b[0mcoef_\u001b[0m\u001b[0;34m!=\u001b[0m\u001b[0;36m0\u001b[0m\u001b[0;34m]\u001b[0m\u001b[0;34m\u001b[0m\u001b[0;34m\u001b[0m\u001b[0m\n\u001b[1;32m     13\u001b[0m \u001b[0;34m\u001b[0m\u001b[0m\n",
            "\u001b[0;32m/usr/local/lib/python3.11/dist-packages/sklearn/base.py\u001b[0m in \u001b[0;36mwrapper\u001b[0;34m(estimator, *args, **kwargs)\u001b[0m\n\u001b[1;32m   1387\u001b[0m                 )\n\u001b[1;32m   1388\u001b[0m             ):\n\u001b[0;32m-> 1389\u001b[0;31m                 \u001b[0;32mreturn\u001b[0m \u001b[0mfit_method\u001b[0m\u001b[0;34m(\u001b[0m\u001b[0mestimator\u001b[0m\u001b[0;34m,\u001b[0m \u001b[0;34m*\u001b[0m\u001b[0margs\u001b[0m\u001b[0;34m,\u001b[0m \u001b[0;34m**\u001b[0m\u001b[0mkwargs\u001b[0m\u001b[0;34m)\u001b[0m\u001b[0;34m\u001b[0m\u001b[0;34m\u001b[0m\u001b[0m\n\u001b[0m\u001b[1;32m   1390\u001b[0m \u001b[0;34m\u001b[0m\u001b[0m\n\u001b[1;32m   1391\u001b[0m         \u001b[0;32mreturn\u001b[0m \u001b[0mwrapper\u001b[0m\u001b[0;34m\u001b[0m\u001b[0;34m\u001b[0m\u001b[0m\n",
            "\u001b[0;32m/usr/local/lib/python3.11/dist-packages/sklearn/linear_model/_coordinate_descent.py\u001b[0m in \u001b[0;36mfit\u001b[0;34m(self, X, y, sample_weight, check_input)\u001b[0m\n\u001b[1;32m    980\u001b[0m         \u001b[0;32mif\u001b[0m \u001b[0mcheck_input\u001b[0m\u001b[0;34m:\u001b[0m\u001b[0;34m\u001b[0m\u001b[0;34m\u001b[0m\u001b[0m\n\u001b[1;32m    981\u001b[0m             \u001b[0mX_copied\u001b[0m \u001b[0;34m=\u001b[0m \u001b[0mself\u001b[0m\u001b[0;34m.\u001b[0m\u001b[0mcopy_X\u001b[0m \u001b[0;32mand\u001b[0m \u001b[0mself\u001b[0m\u001b[0;34m.\u001b[0m\u001b[0mfit_intercept\u001b[0m\u001b[0;34m\u001b[0m\u001b[0;34m\u001b[0m\u001b[0m\n\u001b[0;32m--> 982\u001b[0;31m             X, y = validate_data(\n\u001b[0m\u001b[1;32m    983\u001b[0m                 \u001b[0mself\u001b[0m\u001b[0;34m,\u001b[0m\u001b[0;34m\u001b[0m\u001b[0;34m\u001b[0m\u001b[0m\n\u001b[1;32m    984\u001b[0m                 \u001b[0mX\u001b[0m\u001b[0;34m,\u001b[0m\u001b[0;34m\u001b[0m\u001b[0;34m\u001b[0m\u001b[0m\n",
            "\u001b[0;32m/usr/local/lib/python3.11/dist-packages/sklearn/utils/validation.py\u001b[0m in \u001b[0;36mvalidate_data\u001b[0;34m(_estimator, X, y, reset, validate_separately, skip_check_array, **check_params)\u001b[0m\n\u001b[1;32m   2959\u001b[0m             \u001b[0my\u001b[0m \u001b[0;34m=\u001b[0m \u001b[0mcheck_array\u001b[0m\u001b[0;34m(\u001b[0m\u001b[0my\u001b[0m\u001b[0;34m,\u001b[0m \u001b[0minput_name\u001b[0m\u001b[0;34m=\u001b[0m\u001b[0;34m\"y\"\u001b[0m\u001b[0;34m,\u001b[0m \u001b[0;34m**\u001b[0m\u001b[0mcheck_y_params\u001b[0m\u001b[0;34m)\u001b[0m\u001b[0;34m\u001b[0m\u001b[0;34m\u001b[0m\u001b[0m\n\u001b[1;32m   2960\u001b[0m         \u001b[0;32melse\u001b[0m\u001b[0;34m:\u001b[0m\u001b[0;34m\u001b[0m\u001b[0;34m\u001b[0m\u001b[0m\n\u001b[0;32m-> 2961\u001b[0;31m             \u001b[0mX\u001b[0m\u001b[0;34m,\u001b[0m \u001b[0my\u001b[0m \u001b[0;34m=\u001b[0m \u001b[0mcheck_X_y\u001b[0m\u001b[0;34m(\u001b[0m\u001b[0mX\u001b[0m\u001b[0;34m,\u001b[0m \u001b[0my\u001b[0m\u001b[0;34m,\u001b[0m \u001b[0;34m**\u001b[0m\u001b[0mcheck_params\u001b[0m\u001b[0;34m)\u001b[0m\u001b[0;34m\u001b[0m\u001b[0;34m\u001b[0m\u001b[0m\n\u001b[0m\u001b[1;32m   2962\u001b[0m         \u001b[0mout\u001b[0m \u001b[0;34m=\u001b[0m \u001b[0mX\u001b[0m\u001b[0;34m,\u001b[0m \u001b[0my\u001b[0m\u001b[0;34m\u001b[0m\u001b[0;34m\u001b[0m\u001b[0m\n\u001b[1;32m   2963\u001b[0m \u001b[0;34m\u001b[0m\u001b[0m\n",
            "\u001b[0;32m/usr/local/lib/python3.11/dist-packages/sklearn/utils/validation.py\u001b[0m in \u001b[0;36mcheck_X_y\u001b[0;34m(X, y, accept_sparse, accept_large_sparse, dtype, order, copy, force_writeable, force_all_finite, ensure_all_finite, ensure_2d, allow_nd, multi_output, ensure_min_samples, ensure_min_features, y_numeric, estimator)\u001b[0m\n\u001b[1;32m   1385\u001b[0m     )\n\u001b[1;32m   1386\u001b[0m \u001b[0;34m\u001b[0m\u001b[0m\n\u001b[0;32m-> 1387\u001b[0;31m     \u001b[0my\u001b[0m \u001b[0;34m=\u001b[0m \u001b[0m_check_y\u001b[0m\u001b[0;34m(\u001b[0m\u001b[0my\u001b[0m\u001b[0;34m,\u001b[0m \u001b[0mmulti_output\u001b[0m\u001b[0;34m=\u001b[0m\u001b[0mmulti_output\u001b[0m\u001b[0;34m,\u001b[0m \u001b[0my_numeric\u001b[0m\u001b[0;34m=\u001b[0m\u001b[0my_numeric\u001b[0m\u001b[0;34m,\u001b[0m \u001b[0mestimator\u001b[0m\u001b[0;34m=\u001b[0m\u001b[0mestimator\u001b[0m\u001b[0;34m)\u001b[0m\u001b[0;34m\u001b[0m\u001b[0;34m\u001b[0m\u001b[0m\n\u001b[0m\u001b[1;32m   1388\u001b[0m \u001b[0;34m\u001b[0m\u001b[0m\n\u001b[1;32m   1389\u001b[0m     \u001b[0mcheck_consistent_length\u001b[0m\u001b[0;34m(\u001b[0m\u001b[0mX\u001b[0m\u001b[0;34m,\u001b[0m \u001b[0my\u001b[0m\u001b[0;34m)\u001b[0m\u001b[0;34m\u001b[0m\u001b[0;34m\u001b[0m\u001b[0m\n",
            "\u001b[0;32m/usr/local/lib/python3.11/dist-packages/sklearn/utils/validation.py\u001b[0m in \u001b[0;36m_check_y\u001b[0;34m(y, multi_output, y_numeric, estimator)\u001b[0m\n\u001b[1;32m   1395\u001b[0m     \u001b[0;34m\"\"\"Isolated part of check_X_y dedicated to y validation\"\"\"\u001b[0m\u001b[0;34m\u001b[0m\u001b[0;34m\u001b[0m\u001b[0m\n\u001b[1;32m   1396\u001b[0m     \u001b[0;32mif\u001b[0m \u001b[0mmulti_output\u001b[0m\u001b[0;34m:\u001b[0m\u001b[0;34m\u001b[0m\u001b[0;34m\u001b[0m\u001b[0m\n\u001b[0;32m-> 1397\u001b[0;31m         y = check_array(\n\u001b[0m\u001b[1;32m   1398\u001b[0m             \u001b[0my\u001b[0m\u001b[0;34m,\u001b[0m\u001b[0;34m\u001b[0m\u001b[0;34m\u001b[0m\u001b[0m\n\u001b[1;32m   1399\u001b[0m             \u001b[0maccept_sparse\u001b[0m\u001b[0;34m=\u001b[0m\u001b[0;34m\"csr\"\u001b[0m\u001b[0;34m,\u001b[0m\u001b[0;34m\u001b[0m\u001b[0;34m\u001b[0m\u001b[0m\n",
            "\u001b[0;32m/usr/local/lib/python3.11/dist-packages/sklearn/utils/validation.py\u001b[0m in \u001b[0;36mcheck_array\u001b[0;34m(array, accept_sparse, accept_large_sparse, dtype, order, copy, force_writeable, force_all_finite, ensure_all_finite, ensure_non_negative, ensure_2d, allow_nd, ensure_min_samples, ensure_min_features, estimator, input_name)\u001b[0m\n\u001b[1;32m   1105\u001b[0m \u001b[0;34m\u001b[0m\u001b[0m\n\u001b[1;32m   1106\u001b[0m         \u001b[0;32mif\u001b[0m \u001b[0mensure_all_finite\u001b[0m\u001b[0;34m:\u001b[0m\u001b[0;34m\u001b[0m\u001b[0;34m\u001b[0m\u001b[0m\n\u001b[0;32m-> 1107\u001b[0;31m             _assert_all_finite(\n\u001b[0m\u001b[1;32m   1108\u001b[0m                 \u001b[0marray\u001b[0m\u001b[0;34m,\u001b[0m\u001b[0;34m\u001b[0m\u001b[0;34m\u001b[0m\u001b[0m\n\u001b[1;32m   1109\u001b[0m                 \u001b[0minput_name\u001b[0m\u001b[0;34m=\u001b[0m\u001b[0minput_name\u001b[0m\u001b[0;34m,\u001b[0m\u001b[0;34m\u001b[0m\u001b[0;34m\u001b[0m\u001b[0m\n",
            "\u001b[0;32m/usr/local/lib/python3.11/dist-packages/sklearn/utils/validation.py\u001b[0m in \u001b[0;36m_assert_all_finite\u001b[0;34m(X, allow_nan, msg_dtype, estimator_name, input_name)\u001b[0m\n\u001b[1;32m    118\u001b[0m         \u001b[0;32mreturn\u001b[0m\u001b[0;34m\u001b[0m\u001b[0;34m\u001b[0m\u001b[0m\n\u001b[1;32m    119\u001b[0m \u001b[0;34m\u001b[0m\u001b[0m\n\u001b[0;32m--> 120\u001b[0;31m     _assert_all_finite_element_wise(\n\u001b[0m\u001b[1;32m    121\u001b[0m         \u001b[0mX\u001b[0m\u001b[0;34m,\u001b[0m\u001b[0;34m\u001b[0m\u001b[0;34m\u001b[0m\u001b[0m\n\u001b[1;32m    122\u001b[0m         \u001b[0mxp\u001b[0m\u001b[0;34m=\u001b[0m\u001b[0mxp\u001b[0m\u001b[0;34m,\u001b[0m\u001b[0;34m\u001b[0m\u001b[0;34m\u001b[0m\u001b[0m\n",
            "\u001b[0;32m/usr/local/lib/python3.11/dist-packages/sklearn/utils/validation.py\u001b[0m in \u001b[0;36m_assert_all_finite_element_wise\u001b[0;34m(X, xp, allow_nan, msg_dtype, estimator_name, input_name)\u001b[0m\n\u001b[1;32m    167\u001b[0m                 \u001b[0;34m\"#estimators-that-handle-nan-values\"\u001b[0m\u001b[0;34m\u001b[0m\u001b[0;34m\u001b[0m\u001b[0m\n\u001b[1;32m    168\u001b[0m             )\n\u001b[0;32m--> 169\u001b[0;31m         \u001b[0;32mraise\u001b[0m \u001b[0mValueError\u001b[0m\u001b[0;34m(\u001b[0m\u001b[0mmsg_err\u001b[0m\u001b[0;34m)\u001b[0m\u001b[0;34m\u001b[0m\u001b[0;34m\u001b[0m\u001b[0m\n\u001b[0m\u001b[1;32m    170\u001b[0m \u001b[0;34m\u001b[0m\u001b[0m\n\u001b[1;32m    171\u001b[0m \u001b[0;34m\u001b[0m\u001b[0m\n",
            "\u001b[0;31mValueError\u001b[0m: Input y contains NaN."
          ]
        }
      ]
    },
    {
      "cell_type": "markdown",
      "source": [
        "# **Preprocessed Data**\n",
        "Once the preprocessing techniques have been applied, we will save the changes."
      ],
      "metadata": {
        "id": "rtt9ZPHkwscn"
      }
    },
    {
      "cell_type": "code",
      "source": [
        "df.to_csv('preprocessed_data.csv')"
      ],
      "metadata": {
        "id": "lfJkSSGZxFjh"
      },
      "execution_count": null,
      "outputs": []
    }
  ]
}