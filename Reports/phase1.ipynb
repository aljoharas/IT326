{
  "cells": [
    {
      "cell_type": "markdown",
      "metadata": {
        "colab_type": "text",
        "id": "view-in-github"
      },
      "source": [
      " <a href="https://colab.research.google.com/github/aljoharas/IT326/blob/main/Reports/phase1.ipynb" target="_parent"><img src="https://colab.research.google.com/assets/colab-badge.svg" alt="Open In Colab"/></a>"

      ]
    },
    {
      "cell_type": "markdown",
      "metadata": {
        "id": "Kgg0tDsQJQEP"
      },
      "source": [
        "# **Goal:**\n",
        "Our goal of this project is to study air quality trends over time and understand the impact of factors like weather conditions (temperature and humidity) and proximity to industrial areas on pollution levels. We also aim to create models to predict pollution levels based on these factors."
      ]
    },
    {
      "cell_type": "markdown",
      "metadata": {
        "id": "24cpdWT-KiJU"
      },
      "source": [
        "# **Source**:\n",
        "(https://www.kaggle.com/datasets/mujtabamatin/air-quality-and-pollution-assessment)"
      ]
    },
    {
      "cell_type": "markdown",
      "metadata": {
        "id": "KjVddSRsLBOZ"
      },
      "source": [
        "# **General information about the dataset:**\n",
        "**Dataset Title:** Air Quality Prediction Dataset\n",
        "\n",
        "**Number of Attributes:** 9 attributes\n",
        "\n",
        "\n",
        "**Attribute Explanation:**\n",
        "\n",
        "**Temperature (°C):** Continuous numerical attribute representing the average temperature of the region.\n",
        "\n",
        "**Humidity (%):** Continuous numerical attribute representing relative humidity recorded in the region.\n",
        "\n",
        "**PM2.5 Concentration (µg/m³):** Continuous numerical attribute measuring fine particulate matter levels.\n",
        "\n",
        "**PM10 Concentration (µg/m³):** Continuous numerical attribute measuring coarse particulate matter levels.\n",
        "\n",
        "**NO2 Concentration (ppb):** Continuous numerical attribute measuring nitrogen dioxide levels.\n",
        "\n",
        "**SO2 Concentration (ppb):** Continuous numerical attribute measuring sulfur dioxide levels.\n",
        "\n",
        "**CO Concentration (ppm):** Continuous numerical attribute measuring carbon monoxide levels.\n",
        "\n",
        "**Proximity to Industrial Areas (km):** Continuous numerical attribute representing the distance to the nearest industrial zone.\n",
        "\n",
        "**Population Density (people/km²):** Continuous numerical attribute representing the number of people per square kilometer in the region."
      ]
    },
    {
      "cell_type": "code",
      "execution_count": 2,
      "metadata": {
        "id": "I7JhD4syNdZB"
      },
      "outputs": [],
      "source": [
        "import pandas as pd\n",
        "import os\n",
        "df = pd.read_csv('https://raw.githubusercontent.com/aljoharas/IT326/refs/heads/main/Dataset/Original_dataset.csv')\n"
      ]
    },
    {
      "cell_type": "code",
      "execution_count": 3,
      "metadata": {
        "colab": {
          "base_uri": "https://localhost:8080/"
        },
        "id": "3NkcKHeDOodu",
        "outputId": "50aba280-395b-4f1a-e685-531a7ebd33ec"
      },
      "outputs": [
        {
          "name": "stdout",
          "output_type": "stream",
          "text": [
            "Attribute names: \n",
            " Index(['Temperature', 'Humidity', 'PM2.5', 'PM10', 'NO2', 'SO2', 'CO',\n",
            "       'Proximity_to_Industrial_Areas', 'Population_Density', 'Air Quality'],\n",
            "      dtype='object')\n"
          ]
        }
      ],
      "source": [
        "#Display the attribute names\n",
        "print (\"Attribute names: \\n\", df.columns)"
      ]
    },
    {
      "cell_type": "code",
      "execution_count": 4,
      "metadata": {
        "colab": {
          "base_uri": "https://localhost:8080/"
        },
        "id": "zhNpDrsgO6VN",
        "outputId": "777b4248-7892-4f44-9d88-9a6458841fe8"
      },
      "outputs": [
        {
          "name": "stdout",
          "output_type": "stream",
          "text": [
            "Data types: \n",
            " Temperature                      float64\n",
            "Humidity                         float64\n",
            "PM2.5                            float64\n",
            "PM10                             float64\n",
            "NO2                              float64\n",
            "SO2                              float64\n",
            "CO                               float64\n",
            "Proximity_to_Industrial_Areas    float64\n",
            "Population_Density                 int64\n",
            "Air Quality                       object\n",
            "dtype: object\n"
          ]
        }
      ],
      "source": [
        "#Display tha data types of each attribute\n",
        "print (\"Data types: \\n\", df.dtypes)"
      ]
    }
  ],
  "metadata": {
    "colab": {
      "include_colab_link": true,
      "provenance": []
    },
    "kernelspec": {
      "display_name": "Python 3",
      "name": "python3"
    },
    "language_info": {
      "name": "python"
    }
  },
  "nbformat": 4,
  "nbformat_minor": 0
}
