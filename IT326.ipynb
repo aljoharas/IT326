{
  "nbformat": 4,
  "nbformat_minor": 0,
  "metadata": {
    "colab": {
      "provenance": [],
      "include_colab_link": true
    },
    "kernelspec": {
      "name": "python3",
      "display_name": "Python 3"
    },
    "language_info": {
      "name": "python"
    }
  },
  "cells": [
    {
      "cell_type": "markdown",
      "metadata": {
        "id": "view-in-github",
        "colab_type": "text"
      },
      "source": [
        "<a href=\"https://colab.research.google.com/github/aljoharas/IT326/blob/main/IT326.ipynb\" target=\"_parent\"><img src=\"https://colab.research.google.com/assets/colab-badge.svg\" alt=\"Open In Colab\"/></a>"
      ]
    },
    {
      "cell_type": "markdown",
      "source": [
        "# **Goal:**\n",
        "Our goal of this project is to study air quality trends over time and understand the impact of factors like weather conditions (temperature and humidity) and proximity to industrial areas on pollution levels. We also aim to create models to predict pollution levels based on these factors."
      ],
      "metadata": {
        "id": "Kgg0tDsQJQEP"
      }
    },
    {
      "cell_type": "markdown",
      "source": [
        "# **Source**:\n",
        "(https://www.kaggle.com/datasets/mujtabamatin/air-quality-and-pollution-assessment)"
      ],
      "metadata": {
        "id": "24cpdWT-KiJU"
      }
    },
    {
      "cell_type": "markdown",
      "source": [
        "# **General information about the dataset:**\n",
        "**Dataset Title:** Air Quality Prediction Dataset\n",
        "\n",
        "**Number of Attributes:** 9 attributes\n",
        "\n",
        "\n",
        "**Attribute Explanation:**\n",
        "\n",
        "**Temperature (°C):** Continuous numerical attribute representing the average temperature of the region.\n",
        "\n",
        "**Humidity (%):** Continuous numerical attribute representing relative humidity recorded in the region.\n",
        "\n",
        "**PM2.5 Concentration (µg/m³):** Continuous numerical attribute measuring fine particulate matter levels.\n",
        "\n",
        "**PM10 Concentration (µg/m³):** Continuous numerical attribute measuring coarse particulate matter levels.\n",
        "\n",
        "**NO2 Concentration (ppb):** Continuous numerical attribute measuring nitrogen dioxide levels.\n",
        "\n",
        "**SO2 Concentration (ppb):** Continuous numerical attribute measuring sulfur dioxide levels.\n",
        "\n",
        "**CO Concentration (ppm):** Continuous numerical attribute measuring carbon monoxide levels.\n",
        "\n",
        "**Proximity to Industrial Areas (km):** Continuous numerical attribute representing the distance to the nearest industrial zone.\n",
        "\n",
        "**Population Density (people/km²):** Continuous numerical attribute representing the number of people per square kilometer in the region."
      ],
      "metadata": {
        "id": "KjVddSRsLBOZ"
      }
    },
    {
      "cell_type": "code",
      "source": [
        "import pandas as pd\n",
        "import os\n",
        "df = pd.read_csv('pollution dataset.csv')"
      ],
      "metadata": {
        "id": "I7JhD4syNdZB"
      },
      "execution_count": 12,
      "outputs": []
    },
    {
      "cell_type": "code",
      "source": [
        "#Display the attribute names\n",
        "print (\"Attribute names: \\n\", df.columns)"
      ],
      "metadata": {
        "id": "3NkcKHeDOodu",
        "outputId": "e72c3e44-9be8-442d-f0f3-b9a273d09093",
        "colab": {
          "base_uri": "https://localhost:8080/"
        }
      },
      "execution_count": 13,
      "outputs": [
        {
          "output_type": "stream",
          "name": "stdout",
          "text": [
            "Attribute names: \n",
            " Index(['Temperature', 'Humidity', 'PM2.5', 'PM10', 'NO2', 'SO2', 'CO',\n",
            "       'Proximity_to_Industrial_Areas', 'Population_Density', 'Air Quality'],\n",
            "      dtype='object')\n"
          ]
        }
      ]
    },
    {
      "cell_type": "code",
      "source": [
        "#Display tha data types of each attribute\n",
        "print (\"Data types: \\n\", df.dtypes)"
      ],
      "metadata": {
        "id": "zhNpDrsgO6VN",
        "outputId": "ac0b39d8-8779-4dbf-8963-1920eb8ede42",
        "colab": {
          "base_uri": "https://localhost:8080/"
        }
      },
      "execution_count": 14,
      "outputs": [
        {
          "output_type": "stream",
          "name": "stdout",
          "text": [
            "Data types: \n",
            " Temperature                      float64\n",
            "Humidity                         float64\n",
            "PM2.5                            float64\n",
            "PM10                             float64\n",
            "NO2                              float64\n",
            "SO2                              float64\n",
            "CO                               float64\n",
            "Proximity_to_Industrial_Areas    float64\n",
            "Population_Density                 int64\n",
            "Air Quality                       object\n",
            "dtype: object\n"
          ]
        }
      ]
    }
  ]
}