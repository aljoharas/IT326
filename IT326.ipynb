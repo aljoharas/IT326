{
  "nbformat": 4,
  "nbformat_minor": 0,
  "metadata": {
    "colab": {
      "provenance": [],
      "include_colab_link": true
    },
    "kernelspec": {
      "name": "python3",
      "display_name": "Python 3"
    },
    "language_info": {
      "name": "python"
    }
  },
  "cells": [
    {
      "cell_type": "markdown",
      "metadata": {
        "id": "view-in-github",
        "colab_type": "text"
      },
      "source": [
        "<a href=\"https://colab.research.google.com/github/aljoharas/IT326/blob/main/IT326.ipynb\" target=\"_parent\"><img src=\"https://colab.research.google.com/assets/colab-badge.svg\" alt=\"Open In Colab\"/></a>"
      ]
    },
    {
      "cell_type": "markdown",
      "source": [
        "# **Goal:**\n",
        "Our goal of this project is to study air quality trends over time and understand the impact of factors like weather conditions (temperature and humidity) and proximity to industrial areas on pollution levels. We also aim to create models to predict pollution levels based on these factors."
      ],
      "metadata": {
        "id": "Kgg0tDsQJQEP"
      }
    },
    {
      "cell_type": "markdown",
      "source": [
        "# **Source**:\n",
        "(https://www.kaggle.com/datasets/mujtabamatin/air-quality-and-pollution-assessment)"
      ],
      "metadata": {
        "id": "24cpdWT-KiJU"
      }
    },
    {
      "cell_type": "markdown",
      "source": [
        "# **General information about the dataset:**\n",
        "**Dataset Title:** Air Quality Prediction Dataset\n",
        "\n",
        "**Number of Attributes:** 9 attributes\n",
        "\n",
        "\n",
        "**Attribute Explanation:**\n",
        "\n",
        "**Temperature (°C):** Continuous numerical attribute representing the average temperature of the region.\n",
        "\n",
        "**Humidity (%):** Continuous numerical attribute representing relative humidity recorded in the region.\n",
        "\n",
        "**PM2.5 Concentration (µg/m³):** Continuous numerical attribute measuring fine particulate matter levels.\n",
        "\n",
        "**PM10 Concentration (µg/m³):** Continuous numerical attribute measuring coarse particulate matter levels.\n",
        "\n",
        "**NO2 Concentration (ppb):** Continuous numerical attribute measuring nitrogen dioxide levels.\n",
        "\n",
        "**SO2 Concentration (ppb):** Continuous numerical attribute measuring sulfur dioxide levels.\n",
        "\n",
        "**CO Concentration (ppm):** Continuous numerical attribute measuring carbon monoxide levels.\n",
        "\n",
        "**Proximity to Industrial Areas (km):** Continuous numerical attribute representing the distance to the nearest industrial zone.\n",
        "\n",
        "**Population Density (people/km²):** Continuous numerical attribute representing the number of people per square kilometer in the region."
      ],
      "metadata": {
        "id": "KjVddSRsLBOZ"
      }
    },
    {
      "cell_type": "code",
      "source": [
        "import pandas as pd\n",
        "import os\n",
        "df = pd.read_csv('https://raw.githubusercontent.com/aljoharas/IT326/refs/heads/main/Dataset/pollution%20dataset.csv')\n"
      ],
      "metadata": {
        "id": "I7JhD4syNdZB"
      },
      "execution_count": null,
      "outputs": []
    },
    {
      "cell_type": "code",
      "source": [
        "#Display the attribute names\n",
        "print (\"Attribute names: \\n\", df.columns)"
      ],
      "metadata": {
        "id": "3NkcKHeDOodu",
        "outputId": "f55097c8-ce16-44d3-d870-f2074340576d",
        "colab": {
          "base_uri": "https://localhost:8080/"
        }
      },
      "execution_count": null,
      "outputs": [
        {
          "output_type": "stream",
          "name": "stdout",
          "text": [
            "Attribute names: \n",
            " Index(['Temperature', 'Humidity', 'PM2.5', 'PM10', 'NO2', 'SO2', 'CO',\n",
            "       'Proximity_to_Industrial_Areas', 'Population_Density', 'Air Quality'],\n",
            "      dtype='object')\n"
          ]
        }
      ]
    },
    {
      "cell_type": "code",
      "source": [
        "#Display tha data types of each attribute\n",
        "print (\"Data types: \\n\", df.dtypes)"
      ],
      "metadata": {
        "id": "zhNpDrsgO6VN",
        "outputId": "6961e5dd-7173-4754-c45e-83f7dbda6aa9",
        "colab": {
          "base_uri": "https://localhost:8080/"
        }
      },
      "execution_count": null,
      "outputs": [
        {
          "output_type": "stream",
          "name": "stdout",
          "text": [
            "Data types: \n",
            " Temperature                      float64\n",
            "Humidity                         float64\n",
            "PM2.5                            float64\n",
            "PM10                             float64\n",
            "NO2                              float64\n",
            "SO2                              float64\n",
            "CO                               float64\n",
            "Proximity_to_Industrial_Areas    float64\n",
            "Population_Density                 int64\n",
            "Air Quality                       object\n",
            "dtype: object\n"
          ]
        }
      ]
    },
    {
      "cell_type": "markdown",
      "source": [
        "Statistical Measures:"
      ],
      "metadata": {
        "id": "zg9Yyuh5rR_e"
      }
    },
    {
      "cell_type": "code",
      "source": [
        "statistical_measures = df.describe(percentiles=[.25, .5, .75]).transpose()\n",
        "\n",
        "# To get min, Q1, median, Q3, max:\n",
        "statistical_measures = statistical_measures[['min', '25%', '50%', '75%', 'max']]\n",
        "\n",
        "statistical_measures.columns = ['Min', 'Q1', 'Median', 'Q3', 'Max']\n",
        "\n",
        "# Display the results\n",
        "print(statistical_measures)\n"
      ],
      "metadata": {
        "colab": {
          "base_uri": "https://localhost:8080/"
        },
        "id": "TlRSSC6rq13Y",
        "outputId": "b53c4cb8-fa1d-40b3-a621-b04d3fce8927"
      },
      "execution_count": 3,
      "outputs": [
        {
          "output_type": "stream",
          "name": "stdout",
          "text": [
            "                                  Min      Q1  Median       Q3     Max\n",
            "Temperature                     13.40   25.10   29.00   34.000   58.60\n",
            "Humidity                        36.00   58.30   69.80   80.300  128.10\n",
            "PM2.5                            0.00    4.60   12.00   26.100  295.00\n",
            "PM10                            -0.20   12.30   21.70   38.100  315.80\n",
            "NO2                              7.40   20.10   25.30   31.900   64.90\n",
            "SO2                             -6.20    5.10    8.00   13.725   44.90\n",
            "CO                               0.65    1.03    1.41    1.840    3.72\n",
            "Proximity_to_Industrial_Areas    2.50    5.40    7.90   11.100   25.80\n",
            "Population_Density             188.00  381.00  494.00  600.000  957.00\n"
          ]
        }
      ]
    }
  ]
}